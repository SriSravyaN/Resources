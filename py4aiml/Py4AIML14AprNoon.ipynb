{
 "cells": [
  {
   "cell_type": "code",
   "execution_count": 5,
   "metadata": {},
   "outputs": [
    {
     "name": "stdout",
     "output_type": "stream",
     "text": [
      " Volume in drive C has no label.\n",
      " Volume Serial Number is CAF9-CE01\n",
      "\n",
      " Directory of C:\\Users\\Asokan\\Desktop\\Py4AIML\n",
      "\n",
      "24-04-2020  14:07    <DIR>          .\n",
      "24-04-2020  06:08    <DIR>          ..\n",
      "24-04-2020  14:02    <DIR>          .ipynb_checkpoints\n",
      "09-04-2020  15:28            18,605 20200409.1pynb\n",
      "09-04-2020  15:30            18,605 20200409.ipynb\n",
      "10-04-2020  09:59             5,094 Py4AIML20200410.ipynb\n",
      "23-04-2020  15:51            16,400 Py4AIMLAPr23.ipynb\n",
      "24-04-2020  09:54             7,503 Py4AIMLApr24AM.ipynb\n",
      "09-04-2020  15:27            18,611 Untitled.ipynb\n",
      "14-04-2020  14:13               555 Untitled1.ipynb\n",
      "24-04-2020  08:48             2,460 Untitled2.ipynb\n",
      "24-04-2020  14:06             1,209 Untitled3.ipynb\n",
      "24-04-2020  14:04           418,121 weights_heights_gender.csv\n",
      "              10 File(s)        507,163 bytes\n",
      "               3 Dir(s)  78,511,001,600 bytes free\n"
     ]
    }
   ],
   "source": [
    "!dir"
   ]
  },
  {
   "cell_type": "code",
   "execution_count": 6,
   "metadata": {},
   "outputs": [
    {
     "name": "stdout",
     "output_type": "stream",
     "text": [
      "\"Gender\",\"Height\",\"Weight\"\n",
      "\n",
      "\"Male\",73.847017017515,241.893563180437\n",
      "\n",
      "\"Male\",68.7819040458903,162.310472521300\n",
      "\n",
      "\"Male\",74.1101053917849,212.7408555565\n",
      "\n",
      "\"Male\",71.7309784033377,220.042470303077\n",
      "\n",
      "\"Male\",69.8817958611153,206.349800623871\n",
      "\n",
      "\"Male\",67.2530156878065,152.212155757083\n",
      "\n",
      "\"Male\",68.7850812516616,183.927888604031\n",
      "\n",
      "\"Male\",68.3485155115879,167.971110489509\n",
      "\n",
      "\"Male\",67.018949662883,175.92944039571\n",
      "\n"
     ]
    }
   ],
   "source": [
    "lines_printed = 0\n",
    "for line in open(\"weights_heights_gender.csv\"):\n",
    "    print(line)\n",
    "    lines_printed += 1\n",
    "    if lines_printed == 10:\n",
    "        break"
   ]
  },
  {
   "cell_type": "code",
   "execution_count": 9,
   "metadata": {},
   "outputs": [
    {
     "name": "stdout",
     "output_type": "stream",
     "text": [
      "['\"Male\",73.847017017515,241.893563180437\\n', '\"Male\",68.7819040458903,162.310472521300\\n', '\"Male\",74.1101053917849,212.7408555565\\n', '\"Male\",71.7309784033377,220.042470303077\\n', '\"Male\",69.8817958611153,206.349800623871\\n', '\"Male\",67.2530156878065,152.212155757083\\n', '\"Male\",68.7850812516616,183.927888604031\\n', '\"Male\",68.3485155115879,167.971110489509\\n', '\"Male\",67.018949662883,175.92944039571\\n', '\"Male\",63.4564939783664,156.399676387112\\n']\n"
     ]
    }
   ],
   "source": [
    "lines_read = 0\n",
    "ghw_data = []\n",
    "for line in open(\"weights_heights_gender.csv\"):\n",
    "    if not lines_read == 0:\n",
    "        ghw_data.append(line)\n",
    "    lines_read += 1\n",
    "print(ghw_data[:10])"
   ]
  },
  {
   "cell_type": "code",
   "execution_count": 11,
   "metadata": {},
   "outputs": [
    {
     "name": "stdout",
     "output_type": "stream",
     "text": [
      "[['\"Male\"', '73.847017017515', '241.893563180437'], ['\"Male\"', '68.7819040458903', '162.310472521300'], ['\"Male\"', '74.1101053917849', '212.7408555565'], ['\"Male\"', '71.7309784033377', '220.042470303077'], ['\"Male\"', '69.8817958611153', '206.349800623871'], ['\"Male\"', '67.2530156878065', '152.212155757083'], ['\"Male\"', '68.7850812516616', '183.927888604031'], ['\"Male\"', '68.3485155115879', '167.971110489509'], ['\"Male\"', '67.018949662883', '175.92944039571'], ['\"Male\"', '63.4564939783664', '156.399676387112']]\n"
     ]
    }
   ],
   "source": [
    "lines_read = 0\n",
    "ghw_data = []\n",
    "COMMA = \",\"\n",
    "for line in open(\"weights_heights_gender.csv\"):\n",
    "    if not lines_read == 0:\n",
    "        g, h, w = line.strip().split(COMMA)\n",
    "        ghw_data.append([g, h, w])\n",
    "    lines_read += 1\n",
    "    \n",
    "print(ghw_data[:10])"
   ]
  },
  {
   "cell_type": "code",
   "execution_count": 12,
   "metadata": {},
   "outputs": [
    {
     "name": "stdout",
     "output_type": "stream",
     "text": [
      "[['Male', 73.847017017515, 241.893563180437], ['Male', 68.7819040458903, 162.3104725213], ['Male', 74.1101053917849, 212.7408555565], ['Male', 71.7309784033377, 220.042470303077], ['Male', 69.8817958611153, 206.349800623871], ['Male', 67.2530156878065, 152.212155757083], ['Male', 68.7850812516616, 183.927888604031], ['Male', 68.3485155115879, 167.971110489509], ['Male', 67.018949662883, 175.92944039571], ['Male', 63.4564939783664, 156.399676387112]]\n"
     ]
    }
   ],
   "source": [
    "lines_read = 0\n",
    "ghw_data = []\n",
    "COMMA, QUOTE = \",\", '\"'\n",
    "for line in open(\"weights_heights_gender.csv\"):\n",
    "    if not lines_read == 0:\n",
    "        ghw = line.strip().split(COMMA)\n",
    "        g = ghw[0].strip().strip(QUOTE)\n",
    "        h = float(ghw[1])\n",
    "        w = float(ghw[2])\n",
    "        ghw_data.append([g, h, w])\n",
    "    lines_read += 1\n",
    "print(ghw_data[:10])"
   ]
  },
  {
   "cell_type": "code",
   "execution_count": 13,
   "metadata": {},
   "outputs": [
    {
     "name": "stdout",
     "output_type": "stream",
     "text": [
      "[['Male', 188, 110], ['Male', 175, 74], ['Male', 188, 97], ['Male', 182, 100], ['Male', 177, 94], ['Male', 171, 69], ['Male', 175, 84], ['Male', 174, 76], ['Male', 170, 80], ['Male', 161, 71]]\n"
     ]
    }
   ],
   "source": [
    "lines_read = 0\n",
    "ghw_data = []\n",
    "COMMA, QUOTE = \",\", '\"'\n",
    "for line in open(\"weights_heights_gender.csv\"):\n",
    "    if not lines_read == 0:\n",
    "        ghw = line.strip().split(COMMA)\n",
    "        g = ghw[0].strip().strip(QUOTE)\n",
    "        h = int(round(float(ghw[1]) * 2.54))\n",
    "        w = int(round(float(ghw[2]) * 0.454))\n",
    "        ghw_data.append([g, h, w])\n",
    "    lines_read += 1\n",
    "print(ghw_data[:10])"
   ]
  },
  {
   "cell_type": "code",
   "execution_count": 15,
   "metadata": {},
   "outputs": [],
   "source": [
    "all_weights =[w for g, h, w in ghw_data] "
   ]
  },
  {
   "cell_type": "code",
   "execution_count": 17,
   "metadata": {},
   "outputs": [
    {
     "data": {
      "text/plain": [
       "73.294"
      ]
     },
     "execution_count": 17,
     "metadata": {},
     "output_type": "execute_result"
    }
   ],
   "source": [
    "sum(all_weights)/len(all_weights)"
   ]
  },
  {
   "cell_type": "code",
   "execution_count": 18,
   "metadata": {},
   "outputs": [],
   "source": [
    "import pandas as pd"
   ]
  },
  {
   "cell_type": "code",
   "execution_count": 19,
   "metadata": {},
   "outputs": [
    {
     "data": {
      "text/html": [
       "<div>\n",
       "<style scoped>\n",
       "    .dataframe tbody tr th:only-of-type {\n",
       "        vertical-align: middle;\n",
       "    }\n",
       "\n",
       "    .dataframe tbody tr th {\n",
       "        vertical-align: top;\n",
       "    }\n",
       "\n",
       "    .dataframe thead th {\n",
       "        text-align: right;\n",
       "    }\n",
       "</style>\n",
       "<table border=\"1\" class=\"dataframe\">\n",
       "  <thead>\n",
       "    <tr style=\"text-align: right;\">\n",
       "      <th></th>\n",
       "      <th>Gender</th>\n",
       "      <th>Height</th>\n",
       "      <th>Weight</th>\n",
       "    </tr>\n",
       "  </thead>\n",
       "  <tbody>\n",
       "    <tr>\n",
       "      <th>0</th>\n",
       "      <td>Male</td>\n",
       "      <td>73.847017</td>\n",
       "      <td>241.893563</td>\n",
       "    </tr>\n",
       "    <tr>\n",
       "      <th>1</th>\n",
       "      <td>Male</td>\n",
       "      <td>68.781904</td>\n",
       "      <td>162.310473</td>\n",
       "    </tr>\n",
       "    <tr>\n",
       "      <th>2</th>\n",
       "      <td>Male</td>\n",
       "      <td>74.110105</td>\n",
       "      <td>212.740856</td>\n",
       "    </tr>\n",
       "    <tr>\n",
       "      <th>3</th>\n",
       "      <td>Male</td>\n",
       "      <td>71.730978</td>\n",
       "      <td>220.042470</td>\n",
       "    </tr>\n",
       "    <tr>\n",
       "      <th>4</th>\n",
       "      <td>Male</td>\n",
       "      <td>69.881796</td>\n",
       "      <td>206.349801</td>\n",
       "    </tr>\n",
       "    <tr>\n",
       "      <th>...</th>\n",
       "      <td>...</td>\n",
       "      <td>...</td>\n",
       "      <td>...</td>\n",
       "    </tr>\n",
       "    <tr>\n",
       "      <th>9995</th>\n",
       "      <td>Female</td>\n",
       "      <td>66.172652</td>\n",
       "      <td>136.777454</td>\n",
       "    </tr>\n",
       "    <tr>\n",
       "      <th>9996</th>\n",
       "      <td>Female</td>\n",
       "      <td>67.067155</td>\n",
       "      <td>170.867906</td>\n",
       "    </tr>\n",
       "    <tr>\n",
       "      <th>9997</th>\n",
       "      <td>Female</td>\n",
       "      <td>63.867992</td>\n",
       "      <td>128.475319</td>\n",
       "    </tr>\n",
       "    <tr>\n",
       "      <th>9998</th>\n",
       "      <td>Female</td>\n",
       "      <td>69.034243</td>\n",
       "      <td>163.852461</td>\n",
       "    </tr>\n",
       "    <tr>\n",
       "      <th>9999</th>\n",
       "      <td>Female</td>\n",
       "      <td>61.944246</td>\n",
       "      <td>113.649103</td>\n",
       "    </tr>\n",
       "  </tbody>\n",
       "</table>\n",
       "<p>10000 rows × 3 columns</p>\n",
       "</div>"
      ],
      "text/plain": [
       "      Gender     Height      Weight\n",
       "0       Male  73.847017  241.893563\n",
       "1       Male  68.781904  162.310473\n",
       "2       Male  74.110105  212.740856\n",
       "3       Male  71.730978  220.042470\n",
       "4       Male  69.881796  206.349801\n",
       "...      ...        ...         ...\n",
       "9995  Female  66.172652  136.777454\n",
       "9996  Female  67.067155  170.867906\n",
       "9997  Female  63.867992  128.475319\n",
       "9998  Female  69.034243  163.852461\n",
       "9999  Female  61.944246  113.649103\n",
       "\n",
       "[10000 rows x 3 columns]"
      ]
     },
     "execution_count": 19,
     "metadata": {},
     "output_type": "execute_result"
    }
   ],
   "source": [
    "pd.read_csv(\"weights_heights_gender.csv\")"
   ]
  },
  {
   "cell_type": "code",
   "execution_count": 21,
   "metadata": {},
   "outputs": [],
   "source": [
    "ghw_data = pd.read_csv(\"weights_heights_gender.csv\")"
   ]
  },
  {
   "cell_type": "code",
   "execution_count": 23,
   "metadata": {},
   "outputs": [
    {
     "data": {
      "text/plain": [
       "count    10000.000000\n",
       "mean       161.440357\n",
       "std         32.108439\n",
       "min         64.700127\n",
       "25%        135.818051\n",
       "50%        161.212928\n",
       "75%        187.169525\n",
       "max        269.989699\n",
       "Name: Weight, dtype: float64"
      ]
     },
     "execution_count": 23,
     "metadata": {},
     "output_type": "execute_result"
    }
   ],
   "source": [
    "ghw_data.Weight.describe()"
   ]
  },
  {
   "cell_type": "code",
   "execution_count": 24,
   "metadata": {},
   "outputs": [
    {
     "data": {
      "text/plain": [
       "count    10000.000000\n",
       "mean        66.367560\n",
       "std          3.847528\n",
       "min         54.263133\n",
       "25%         63.505620\n",
       "50%         66.318070\n",
       "75%         69.174262\n",
       "max         78.998742\n",
       "Name: Height, dtype: float64"
      ]
     },
     "execution_count": 24,
     "metadata": {},
     "output_type": "execute_result"
    }
   ],
   "source": [
    "ghw_data[\"Height\"].describe()"
   ]
  },
  {
   "cell_type": "code",
   "execution_count": 25,
   "metadata": {},
   "outputs": [],
   "source": [
    "def inches2cm(s: str) -> int:\n",
    "    return int(round(float(s) * 2.54))\n",
    "def pounds2kg(s: str) -> int:\n",
    "    return int(round(float(s) * 0.454))"
   ]
  },
  {
   "cell_type": "code",
   "execution_count": 31,
   "metadata": {},
   "outputs": [],
   "source": [
    "data = pd.read_csv(\"weights_heights_gender.csv\", \\\n",
    "                   converters={\"Height\":inches2cm, \"Weight\":pounds2kg})"
   ]
  },
  {
   "cell_type": "code",
   "execution_count": 32,
   "metadata": {},
   "outputs": [
    {
     "data": {
      "text/plain": [
       "count    10000.000000\n",
       "mean        73.294000\n",
       "std         14.573867\n",
       "min         29.000000\n",
       "25%         62.000000\n",
       "50%         73.000000\n",
       "75%         85.000000\n",
       "max        123.000000\n",
       "Name: Weight, dtype: float64"
      ]
     },
     "execution_count": 32,
     "metadata": {},
     "output_type": "execute_result"
    }
   ],
   "source": [
    "data.Weight.describe()"
   ]
  },
  {
   "cell_type": "code",
   "execution_count": 33,
   "metadata": {},
   "outputs": [],
   "source": [
    "import matplotlib.pyplot as plt"
   ]
  },
  {
   "cell_type": "code",
   "execution_count": 34,
   "metadata": {},
   "outputs": [
    {
     "data": {
      "image/png": "[encoded data removed]",
      "text/plain": [
       "<Figure size 432x288 with 1 Axes>"
      ]
     },
     "metadata": {
      "needs_background": "light"
     },
     "output_type": "display_data"
    }
   ],
   "source": [
    "plt.plot(data.Height, data.Weight)\n",
    "plt.show()"
   ]
  },
  {
   "cell_type": "code",
   "execution_count": 37,
   "metadata": {},
   "outputs": [
    {
     "data": {
      "image/png": "[encoded data removed]",
      "text/plain": [
       "<Figure size 432x288 with 1 Axes>"
      ]
     },
     "metadata": {
      "needs_background": "light"
     },
     "output_type": "display_data"
    }
   ],
   "source": [
    "plt.plot(data.Height, data.Weight, \"b.\")\n",
    "plt.show()"
   ]
  },
  {
   "cell_type": "code",
   "execution_count": 38,
   "metadata": {},
   "outputs": [
    {
     "data": {
      "image/png": "[encoded data removed]",
      "text/plain": [
       "<Figure size 432x288 with 1 Axes>"
      ]
     },
     "metadata": {
      "needs_background": "light"
     },
     "output_type": "display_data"
    }
   ],
   "source": [
    "plt.plot(data.Height, data.Weight, \"b.\")\n",
    "plt.xlabel(\"Height in cm\")\n",
    "plt.ylabel('Weight in kg')\n",
    "plt.show()"
   ]
  },
  {
   "cell_type": "code",
   "execution_count": 39,
   "metadata": {},
   "outputs": [],
   "source": [
    "Male = data[data.Gender == 'Male']\n",
    "Female = data[data.Gender == 'Female']"
   ]
  },
  {
   "cell_type": "code",
   "execution_count": 41,
   "metadata": {},
   "outputs": [
    {
     "data": {
      "image/png": "[encoded data removed]",
      "text/plain": [
       "<Figure size 432x288 with 1 Axes>"
      ]
     },
     "metadata": {
      "needs_background": "light"
     },
     "output_type": "display_data"
    }
   ],
   "source": [
    "plt.plot(Male.Height, Male.Weight, 'b.')\n",
    "plt.plot(Female.Height, Female.Weight, 'g+')\n",
    "plt.xlabel(\"Height in cm\")\n",
    "plt.ylabel(\"Weight in kg\")\n",
    "plt.show()"
   ]
  },
  {
   "cell_type": "code",
   "execution_count": 43,
   "metadata": {},
   "outputs": [],
   "source": [
    "tallMale = Male[Male.Height > 174]\n",
    "tallFemale = Female[Female.Height > 164]"
   ]
  },
  {
   "cell_type": "code",
   "execution_count": 44,
   "metadata": {},
   "outputs": [
    {
     "data": {
      "image/png": "[encoded data removed]",
      "text/plain": [
       "<Figure size 432x288 with 1 Axes>"
      ]
     },
     "metadata": {
      "needs_background": "light"
     },
     "output_type": "display_data"
    }
   ],
   "source": [
    "plt.plot(tallMale.Height, tallMale.Weight, 'b.')\n",
    "plt.plot(tallFemale.Height, tallFemale.Weight, 'g+')\n",
    "plt.xlabel(\"Height in cm\")\n",
    "plt.ylabel(\"Weight in kg\")\n",
    "plt.show()"
   ]
  },
  {
   "cell_type": "code",
   "execution_count": 45,
   "metadata": {},
   "outputs": [],
   "source": [
    "pd.read_csv?"
   ]
  },
  {
   "cell_type": "code",
   "execution_count": null,
   "metadata": {},
   "outputs": [],
   "source": []
  }
 ],
 "metadata": {
  "kernelspec": {
   "display_name": "Python 3",
   "language": "python",
   "name": "python3"
  },
  "language_info": {
   "codemirror_mode": {
    "name": "ipython",
    "version": 3
   },
   "file_extension": ".py",
   "mimetype": "text/x-python",
   "name": "python",
   "nbconvert_exporter": "python",
   "pygments_lexer": "ipython3",
   "version": "3.7.6"
  }
 },
 "nbformat": 4,
 "nbformat_minor": 4
}
