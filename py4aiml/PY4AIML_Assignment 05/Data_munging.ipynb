{
 "cells": [
  {
   "cell_type": "markdown",
   "metadata": {
    "colab_type": "text",
    "id": "e5_uG5QyzF95"
   },
   "source": [
    "## Pandas"
   ]
  },
  {
   "cell_type": "markdown",
   "metadata": {
    "colab_type": "text",
    "id": "7DyieCzoGrWG"
   },
   "source": [
    "### Data Description:\n",
    "\n",
    "* The dataset is made up of 1016810 rows and 7 columns. \n",
    "\n",
    "* Each line is the data of one student\n",
    "\n",
    "* The seven columns correspond to \n",
    "   - Region Code\n",
    "   - student id\n",
    "   - English marks\n",
    "   - First Language marks\n",
    "   - Math marks\n",
    "   - Science marks\n",
    "   - Social marks\n",
    "* The marks for the students absent  for the exam are sometimes denoted by 'A', sometimes denoted by ' AA', sometimes denoted by 'AAA' and sometimes denoted by 'G'\n",
    "\n",
    "* If the student is not marked as absent but no marks in a subject then he is a supplementary candidate."
   ]
  },
  {
   "cell_type": "markdown",
   "metadata": {
    "colab_type": "text",
    "id": "wLcx8LeUJfJq"
   },
   "source": [
    "#### Exercise 1 :\n",
    "\n",
    "Load the dataset using Pandas and drop all the supplementary candidates from the dataset"
   ]
  },
  {
   "cell_type": "code",
   "execution_count": 6,
   "metadata": {
    "colab": {},
    "colab_type": "code",
    "id": "EnjXfohrKdIx"
   },
   "outputs": [
    {
     "name": "stdout",
     "output_type": "stream",
     "text": [
      "<class 'pandas.core.frame.DataFrame'>\n"
     ]
    },
    {
     "data": {
      "text/html": [
       "<div>\n",
       "<style scoped>\n",
       "    .dataframe tbody tr th:only-of-type {\n",
       "        vertical-align: middle;\n",
       "    }\n",
       "\n",
       "    .dataframe tbody tr th {\n",
       "        vertical-align: top;\n",
       "    }\n",
       "\n",
       "    .dataframe thead th {\n",
       "        text-align: right;\n",
       "    }\n",
       "</style>\n",
       "<table border=\"1\" class=\"dataframe\">\n",
       "  <thead>\n",
       "    <tr style=\"text-align: right;\">\n",
       "      <th></th>\n",
       "      <th>01</th>\n",
       "      <th>010001</th>\n",
       "      <th>053</th>\n",
       "      <th>036</th>\n",
       "      <th>28</th>\n",
       "      <th>16</th>\n",
       "      <th>44</th>\n",
       "    </tr>\n",
       "  </thead>\n",
       "  <tbody>\n",
       "    <tr>\n",
       "      <th>0</th>\n",
       "      <td>1</td>\n",
       "      <td>10002</td>\n",
       "      <td>058</td>\n",
       "      <td>037</td>\n",
       "      <td>42</td>\n",
       "      <td>35</td>\n",
       "      <td>40</td>\n",
       "    </tr>\n",
       "    <tr>\n",
       "      <th>1</th>\n",
       "      <td>1</td>\n",
       "      <td>10003</td>\n",
       "      <td>072</td>\n",
       "      <td>056</td>\n",
       "      <td>71</td>\n",
       "      <td>55</td>\n",
       "      <td>70</td>\n",
       "    </tr>\n",
       "    <tr>\n",
       "      <th>2</th>\n",
       "      <td>1</td>\n",
       "      <td>10004</td>\n",
       "      <td>087</td>\n",
       "      <td>064</td>\n",
       "      <td>83</td>\n",
       "      <td>58</td>\n",
       "      <td>65</td>\n",
       "    </tr>\n",
       "    <tr>\n",
       "      <th>3</th>\n",
       "      <td>1</td>\n",
       "      <td>10005</td>\n",
       "      <td>059</td>\n",
       "      <td>045</td>\n",
       "      <td>50</td>\n",
       "      <td>35</td>\n",
       "      <td>48</td>\n",
       "    </tr>\n",
       "    <tr>\n",
       "      <th>4</th>\n",
       "      <td>1</td>\n",
       "      <td>10006</td>\n",
       "      <td>044</td>\n",
       "      <td>037</td>\n",
       "      <td>25</td>\n",
       "      <td>18</td>\n",
       "      <td>37</td>\n",
       "    </tr>\n",
       "  </tbody>\n",
       "</table>\n",
       "</div>"
      ],
      "text/plain": [
       "   01  010001  053  036   28   16   44\n",
       "0   1   10002  058  037   42   35   40\n",
       "1   1   10003  072  056   71   55   70\n",
       "2   1   10004  087  064   83   58   65\n",
       "3   1   10005  059  045   50   35   48\n",
       "4   1   10006  044  037   25   18   37"
      ]
     },
     "execution_count": 6,
     "metadata": {},
     "output_type": "execute_result"
    }
   ],
   "source": [
    "#### Your Code Here\n",
    "import pandas as pd\n",
    "a=pd.read_csv(\"Data_munging_SSLC_data.txt\",delimiter=\";\")\n",
    "print(type(a))\n",
    "a.head()"
   ]
  },
  {
   "cell_type": "markdown",
   "metadata": {
    "colab_type": "text",
    "id": "5uWEzk58znbS"
   },
   "source": [
    "### Exercise 2:\n",
    "Display the first and last 5 rows of the data"
   ]
  },
  {
   "cell_type": "code",
   "execution_count": 7,
   "metadata": {
    "colab": {},
    "colab_type": "code",
    "id": "Py_cBUi9yD8d"
   },
   "outputs": [
    {
     "name": "stdout",
     "output_type": "stream",
     "text": [
      "   01  010001  053  036   28   16   44\n",
      "0   1   10002  058  037   42   35   40\n",
      "1   1   10003  072  056   71   55   70\n",
      "2   1   10004  087  064   83   58   65\n",
      "3   1   10005  059  045   50   35   48\n",
      "4   1   10006  044  037   25   18   37\n",
      "         01  010001  053  036   28   16   44\n",
      "1016804  65  859740  NaN  NaN  NaN   25  NaN\n",
      "1016805  65  859741  021  NaN   43   19  NaN\n",
      "1016806  65  859742  051  NaN  NaN  NaN  NaN\n",
      "1016807  65  859743  035  NaN  NaN   13  NaN\n",
      "1016808  26  872158  NaN  NaN  NaN  NaN  NaN\n"
     ]
    }
   ],
   "source": [
    "#### Your Code Here\n",
    "print(a.head(5))\n",
    "print(a.tail(5))"
   ]
  },
  {
   "cell_type": "markdown",
   "metadata": {
    "colab_type": "text",
    "id": "omQaBoJDKfbf"
   },
   "source": [
    "#### Exercise 3 :\n",
    "\n",
    "Standardize the indication  for the absent students. \n",
    "\n",
    "For example replace all absentees notation with  'ABS'"
   ]
  },
  {
   "cell_type": "code",
   "execution_count": 8,
   "metadata": {
    "colab": {},
    "colab_type": "code",
    "id": "phciZzvCLh3J"
   },
   "outputs": [
    {
     "data": {
      "text/plain": [
       "Index(['01', '010001', '053', '036', ' 28', ' 16', ' 44'], dtype='object')"
      ]
     },
     "execution_count": 8,
     "metadata": {},
     "output_type": "execute_result"
    }
   ],
   "source": [
    "#### Your Code Here\n",
    "a.columns"
   ]
  },
  {
   "cell_type": "markdown",
   "metadata": {
    "colab_type": "text",
    "id": "zRjrEs5BLkQT"
   },
   "source": [
    "#### Exercise 4 :\n",
    "\n",
    "Draw a stacked bar plot. Representing regions verus number of students with first class, number of students with second class and number of students with third class. \n",
    "\n",
    "* First class >= 60\n",
    "* Second class >= 50\n",
    "* Third class  >= 40"
   ]
  },
  {
   "cell_type": "code",
   "execution_count": 0,
   "metadata": {
    "colab": {},
    "colab_type": "code",
    "id": "M9W0yig80N34"
   },
   "outputs": [],
   "source": [
    "#### Your Code Here"
   ]
  }
 ],
 "metadata": {
  "colab": {
   "collapsed_sections": [],
   "name": "Data_munging.ipynb",
   "provenance": [
    {
     "file_id": "13uAi9Xor8gbgXZWRZMFVPgs9c_gf1qEA",
     "timestamp": 1586684725983
    }
   ]
  },
  "kernelspec": {
   "display_name": "Python 3",
   "language": "python",
   "name": "python3"
  },
  "language_info": {
   "codemirror_mode": {
    "name": "ipython",
    "version": 3
   },
   "file_extension": ".py",
   "mimetype": "text/x-python",
   "name": "python",
   "nbconvert_exporter": "python",
   "pygments_lexer": "ipython3",
   "version": "3.7.6"
  }
 },
 "nbformat": 4,
 "nbformat_minor": 1
}
