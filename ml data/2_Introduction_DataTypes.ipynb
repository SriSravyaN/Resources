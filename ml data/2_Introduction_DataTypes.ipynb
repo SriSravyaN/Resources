{
  "nbformat": 4,
  "nbformat_minor": 0,
  "metadata": {
    "colab": {
      "name": "2.Introduction-DataTypes.ipynb",
      "version": "0.3.2",
      "provenance": []
    },
    "language_info": {
      "codemirror_mode": {
        "name": "ipython",
        "version": 3
      },
      "file_extension": ".py",
      "mimetype": "text/x-python",
      "name": "python",
      "nbconvert_exporter": "python",
      "pygments_lexer": "ipython3",
      "version": "3.7.0"
    },
    "kernelspec": {
      "display_name": "Python 3",
      "language": "python",
      "name": "python3"
    }
  },
  "cells": [
    {
      "cell_type": "code",
      "metadata": {
        "id": "R6mIXz4eKDhN",
        "colab_type": "code",
        "colab": {}
      },
      "source": [
        "print(\"This is my first line of code in python\")"
      ],
      "execution_count": 0,
      "outputs": []
    },
    {
      "cell_type": "code",
      "metadata": {
        "id": "-47QTbmWKDhV",
        "colab_type": "code",
        "colab": {}
      },
      "source": [
        "print(\"Hello\\nThis is in the next line\")"
      ],
      "execution_count": 0,
      "outputs": []
    },
    {
      "cell_type": "code",
      "metadata": {
        "id": "sA2vkaesKDha",
        "colab_type": "code",
        "colab": {}
      },
      "source": [
        "a = 6\n",
        "b = 7\n",
        "print(a + b)  \n",
        "\n",
        "print(a - b) \n",
        "print(a * b) \n",
        "print(a / b)\n",
        "print(a // b)\n",
        "print(a % b) \n",
        "print(a ** b)"
      ],
      "execution_count": 0,
      "outputs": []
    },
    {
      "cell_type": "code",
      "metadata": {
        "id": "3ZIrlx0vKDhe",
        "colab_type": "code",
        "colab": {}
      },
      "source": [
        "#BEDMAS\n",
        "print(4 * 5 - 9 + 6 / 7)"
      ],
      "execution_count": 0,
      "outputs": []
    },
    {
      "cell_type": "code",
      "metadata": {
        "id": "t8iLbWWJKDhj",
        "colab_type": "code",
        "colab": {}
      },
      "source": [
        "inc = 9\n",
        "inc += 1\n",
        "print(inc)\n",
        "inc -= 1\n",
        "print(inc)"
      ],
      "execution_count": 0,
      "outputs": []
    },
    {
      "cell_type": "code",
      "metadata": {
        "id": "ZNfXzryLKDhp",
        "colab_type": "code",
        "colab": {}
      },
      "source": [
        "#Logical\n",
        "print(3 < 4)\n",
        "print(True and False) \n",
        "print(True or False)\n",
        "print(a!=b) \n",
        "print(True and not False)"
      ],
      "execution_count": 0,
      "outputs": []
    },
    {
      "cell_type": "code",
      "metadata": {
        "id": "-G1u149LKDht",
        "colab_type": "code",
        "colab": {}
      },
      "source": [
        "small = \"i am upper cased\"\n",
        "print(small.upper())\n",
        "\n",
        "large = \"I AM LOWER CASED\"\n",
        "print(large.lower())\n"
      ],
      "execution_count": 0,
      "outputs": []
    },
    {
      "cell_type": "code",
      "metadata": {
        "id": "ObY35ex4KDhx",
        "colab_type": "code",
        "colab": {}
      },
      "source": [
        "some_sentence = \"There is a space at the end    \"\n",
        "print(some_sentence)\n",
        "print(some_sentence.rstrip())\n"
      ],
      "execution_count": 0,
      "outputs": []
    },
    {
      "cell_type": "code",
      "metadata": {
        "id": "MPQUTPqgKDh2",
        "colab_type": "code",
        "colab": {}
      },
      "source": [
        "increment = '4%'\n",
        "print(increment.rstrip('%')) "
      ],
      "execution_count": 0,
      "outputs": []
    },
    {
      "cell_type": "code",
      "metadata": {
        "id": "deWPaoPUKDh6",
        "colab_type": "code",
        "colab": {}
      },
      "source": [
        "start = \"   There is space at the start\"\n",
        "print(start)\n",
        "print(start.lstrip())"
      ],
      "execution_count": 0,
      "outputs": []
    },
    {
      "cell_type": "code",
      "metadata": {
        "id": "WYCNFOkVKDiA",
        "colab_type": "code",
        "colab": {}
      },
      "source": [
        "spaces = \"   Trim whitespaces  \"\n",
        "print(spaces)\n",
        "print(spaces.strip())"
      ],
      "execution_count": 0,
      "outputs": []
    },
    {
      "cell_type": "code",
      "metadata": {
        "id": "TDYfjpn7KDiH",
        "colab_type": "code",
        "colab": {}
      },
      "source": [
        "num_with_chars = '*444#'\n",
        "print(num_with_chars.rstrip('#').lstrip('*'))"
      ],
      "execution_count": 0,
      "outputs": []
    },
    {
      "cell_type": "code",
      "metadata": {
        "id": "7YhJBLnUKDiL",
        "colab_type": "code",
        "colab": {}
      },
      "source": [
        "val = \"2 apples\"\n",
        "no_of_apples = val[0] \n",
        "print('number of apples is', no_of_apples)\n"
      ],
      "execution_count": 0,
      "outputs": []
    },
    {
      "cell_type": "code",
      "metadata": {
        "id": "2iUJ-evbKDiP",
        "colab_type": "code",
        "colab": {}
      },
      "source": [
        "what = val[2:]\n",
        "print(what)"
      ],
      "execution_count": 0,
      "outputs": []
    },
    {
      "cell_type": "code",
      "metadata": {
        "id": "jb8or0SpKDiU",
        "colab_type": "code",
        "colab": {}
      },
      "source": [
        "#slicing by specifying start and end index\n",
        "print(val[2:5])\n"
      ],
      "execution_count": 0,
      "outputs": []
    },
    {
      "cell_type": "code",
      "metadata": {
        "id": "rOZFkzaNKDia",
        "colab_type": "code",
        "colab": {}
      },
      "source": [
        "batch = \"5 oranges 3 monkeys n\"\n",
        "fruits = batch[ :9]\n",
        "print(fruits)"
      ],
      "execution_count": 0,
      "outputs": []
    },
    {
      "cell_type": "code",
      "metadata": {
        "id": "d6XVc7B1KDie",
        "colab_type": "code",
        "colab": {}
      },
      "source": [
        "print(batch[ :-2])"
      ],
      "execution_count": 0,
      "outputs": []
    },
    {
      "cell_type": "code",
      "metadata": {
        "id": "_L3cfZvkKDii",
        "colab_type": "code",
        "colab": {}
      },
      "source": [
        "animals = batch[10:-2]\n",
        "print(animals)"
      ],
      "execution_count": 0,
      "outputs": []
    },
    {
      "cell_type": "code",
      "metadata": {
        "id": "PeBvQ2amKDin",
        "colab_type": "code",
        "colab": {}
      },
      "source": [
        "nums = '123456789'\n",
        "even_nums = nums[1::2]\n",
        "print(even_nums)"
      ],
      "execution_count": 0,
      "outputs": []
    },
    {
      "cell_type": "code",
      "metadata": {
        "id": "vK1XebvqKDit",
        "colab_type": "code",
        "colab": {}
      },
      "source": [
        "odd_nums = nums[0::2]\n",
        "print(odd_nums)"
      ],
      "execution_count": 0,
      "outputs": []
    },
    {
      "cell_type": "code",
      "metadata": {
        "collapsed": true,
        "id": "1pkzU8L9KDi0",
        "colab_type": "code",
        "colab": {}
      },
      "source": [
        "odd_nums_again = nums[ :: 2]\n"
      ],
      "execution_count": 0,
      "outputs": []
    },
    {
      "cell_type": "code",
      "metadata": {
        "collapsed": true,
        "id": "JGfsDvCAKDi6",
        "colab_type": "code",
        "colab": {}
      },
      "source": [
        "first_name = \"Monty\"\n",
        "last_name = 'Python'"
      ],
      "execution_count": 0,
      "outputs": []
    },
    {
      "cell_type": "code",
      "metadata": {
        "id": "v3iFwzb2KDi9",
        "colab_type": "code",
        "colab": {}
      },
      "source": [
        "name = first_name + \" \" + last_name\n",
        "print(name)"
      ],
      "execution_count": 0,
      "outputs": []
    },
    {
      "cell_type": "code",
      "metadata": {
        "collapsed": true,
        "id": "jUaSy016KDjC",
        "colab_type": "code",
        "colab": {}
      },
      "source": [
        "age = 30\n",
        "my_age = (\"I am \"+ str(age) + \" years old\")"
      ],
      "execution_count": 0,
      "outputs": []
    },
    {
      "cell_type": "code",
      "metadata": {
        "collapsed": true,
        "id": "35v6UcQQKDjH",
        "colab_type": "code",
        "colab": {}
      },
      "source": [
        "My_age = \"I am {0} years old\".format(age) "
      ],
      "execution_count": 0,
      "outputs": []
    },
    {
      "cell_type": "code",
      "metadata": {
        "id": "HGK-wxKqKDjL",
        "colab_type": "code",
        "colab": {}
      },
      "source": [
        "A = \"Data\"\n",
        "B = \"Analysis\"\n",
        "C = \"Pandas\"\n",
        "\n",
        "print(\"{0} {1} using {2}\".format(A,B,C))\n"
      ],
      "execution_count": 0,
      "outputs": []
    },
    {
      "cell_type": "code",
      "metadata": {
        "id": "8mFvUgfHKDjP",
        "colab_type": "code",
        "colab": {}
      },
      "source": [
        "#concat and update\n",
        "name += ' ' + my_age\n",
        "print(name)"
      ],
      "execution_count": 0,
      "outputs": []
    }
  ]
}