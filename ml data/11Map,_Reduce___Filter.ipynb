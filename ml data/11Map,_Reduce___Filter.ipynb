{
  "nbformat": 4,
  "nbformat_minor": 0,
  "metadata": {
    "colab": {
      "name": "11Map, Reduce _ Filter.ipynb",
      "version": "0.3.2",
      "provenance": []
    },
    "language_info": {
      "codemirror_mode": {
        "name": "ipython",
        "version": 3
      },
      "file_extension": ".py",
      "mimetype": "text/x-python",
      "name": "python",
      "nbconvert_exporter": "python",
      "pygments_lexer": "ipython3",
      "version": "3.7.0"
    },
    "kernelspec": {
      "display_name": "Python 3",
      "language": "python",
      "name": "python3"
    }
  },
  "cells": [
    {
      "cell_type": "code",
      "metadata": {
        "id": "FuuEuOjtKcvv",
        "colab_type": "code",
        "colab": {},
        "outputId": "e9d64651-c755-4d8c-9043-59875a1861ab"
      },
      "source": [
        "first_list = [2, 4, 5]\n",
        "print(first_list**2)\n"
      ],
      "execution_count": 0,
      "outputs": [
        {
          "output_type": "error",
          "ename": "TypeError",
          "evalue": "unsupported operand type(s) for ** or pow(): 'list' and 'int'",
          "traceback": [
            "\u001b[1;31m---------------------------------------------------------------------------\u001b[0m",
            "\u001b[1;31mTypeError\u001b[0m                                 Traceback (most recent call last)",
            "\u001b[1;32m<ipython-input-1-1f41c4b43dbf>\u001b[0m in \u001b[0;36m<module>\u001b[1;34m()\u001b[0m\n\u001b[0;32m      1\u001b[0m \u001b[0mfirst_list\u001b[0m \u001b[1;33m=\u001b[0m \u001b[1;33m[\u001b[0m\u001b[1;36m2\u001b[0m\u001b[1;33m,\u001b[0m \u001b[1;36m4\u001b[0m\u001b[1;33m,\u001b[0m \u001b[1;36m5\u001b[0m\u001b[1;33m]\u001b[0m\u001b[1;33m\u001b[0m\u001b[0m\n\u001b[1;32m----> 2\u001b[1;33m \u001b[0mprint\u001b[0m\u001b[1;33m(\u001b[0m\u001b[0mfirst_list\u001b[0m\u001b[1;33m**\u001b[0m\u001b[1;36m2\u001b[0m\u001b[1;33m)\u001b[0m\u001b[1;33m\u001b[0m\u001b[0m\n\u001b[0m",
            "\u001b[1;31mTypeError\u001b[0m: unsupported operand type(s) for ** or pow(): 'list' and 'int'"
          ]
        }
      ]
    },
    {
      "cell_type": "code",
      "metadata": {
        "id": "mAzzkBRfKcv3",
        "colab_type": "code",
        "colab": {}
      },
      "source": [
        "first_list = [2, 4, 5]"
      ],
      "execution_count": 0,
      "outputs": []
    },
    {
      "cell_type": "code",
      "metadata": {
        "id": "V7gsAGdwKcv8",
        "colab_type": "code",
        "colab": {}
      },
      "source": [
        "first_list=[i**2 for i in first_list]"
      ],
      "execution_count": 0,
      "outputs": []
    },
    {
      "cell_type": "code",
      "metadata": {
        "id": "DqegZ4WPKcwH",
        "colab_type": "code",
        "colab": {},
        "outputId": "eb748c27-130f-4046-c32a-8af719416395"
      },
      "source": [
        "first_list"
      ],
      "execution_count": 0,
      "outputs": [
        {
          "output_type": "execute_result",
          "data": {
            "text/plain": [
              "[16, 256, 625]"
            ]
          },
          "metadata": {
            "tags": []
          },
          "execution_count": 6
        }
      ]
    },
    {
      "cell_type": "code",
      "metadata": {
        "id": "8WMraRU3KcwW",
        "colab_type": "code",
        "colab": {},
        "outputId": "a34001d5-3eaa-4d31-fd09-abc0afadefc6"
      },
      "source": [
        "g=lambda x:x**2\n",
        "g(2)"
      ],
      "execution_count": 0,
      "outputs": [
        {
          "output_type": "execute_result",
          "data": {
            "text/plain": [
              "4"
            ]
          },
          "metadata": {
            "tags": []
          },
          "execution_count": 7
        }
      ]
    },
    {
      "cell_type": "code",
      "metadata": {
        "id": "AErhQE8XKcwi",
        "colab_type": "code",
        "colab": {},
        "outputId": "f10b3c69-ebc8-4ba2-b83e-fb9ba4b4de01"
      },
      "source": [
        "g1=lambda x,y:x**y\n",
        "g1(2,3)"
      ],
      "execution_count": 0,
      "outputs": [
        {
          "output_type": "execute_result",
          "data": {
            "text/plain": [
              "8"
            ]
          },
          "metadata": {
            "tags": []
          },
          "execution_count": 9
        }
      ]
    },
    {
      "cell_type": "code",
      "metadata": {
        "id": "gPL4ASTKKcwz",
        "colab_type": "code",
        "colab": {},
        "outputId": "840cee10-bc74-43ea-d6ec-b6b929cd1a23"
      },
      "source": [
        "print(map(lambda x: x**2, first_list))"
      ],
      "execution_count": 0,
      "outputs": [
        {
          "output_type": "stream",
          "text": [
            "<map object at 0x0000029828E06FD0>\n"
          ],
          "name": "stdout"
        }
      ]
    },
    {
      "cell_type": "code",
      "metadata": {
        "id": "FzH8_yy5Kcw_",
        "colab_type": "code",
        "colab": {}
      },
      "source": [
        ""
      ],
      "execution_count": 0,
      "outputs": []
    },
    {
      "cell_type": "code",
      "metadata": {
        "id": "eiOZICR_KcxE",
        "colab_type": "code",
        "colab": {},
        "outputId": "f3afefad-aa3a-4b3f-b178-0e16904c07b8"
      },
      "source": [
        "first_list = [2,4,5]\n",
        "print(list(map(lambda x: x**2, first_list)))"
      ],
      "execution_count": 0,
      "outputs": [
        {
          "output_type": "stream",
          "text": [
            "[4, 16, 25]\n"
          ],
          "name": "stdout"
        }
      ]
    },
    {
      "cell_type": "code",
      "metadata": {
        "id": "9TMMZ9oOKcxL",
        "colab_type": "code",
        "colab": {},
        "outputId": "7bfbb73e-fe3e-4764-8617-111b936ddaf9"
      },
      "source": [
        "def squareit(n):\n",
        "    return n**2\n",
        "print(list(map(squareit, first_list)))\n"
      ],
      "execution_count": 0,
      "outputs": [
        {
          "output_type": "stream",
          "text": [
            "[4, 16, 25]\n"
          ],
          "name": "stdout"
        }
      ]
    },
    {
      "cell_type": "code",
      "metadata": {
        "id": "0oP7PfFVKcxT",
        "colab_type": "code",
        "colab": {},
        "outputId": "1c5c2cc7-baf8-4bf6-cdf0-46935f5745e9"
      },
      "source": [
        "sums_list = [3,5,9,7]\n",
        "sums_list2 = (4,5,6,7)\n",
        "print(list(map(lambda x,y : x+y, sums_list,sums_list2)))\n"
      ],
      "execution_count": 0,
      "outputs": [
        {
          "output_type": "stream",
          "text": [
            "[7, 10, 15, 14]\n"
          ],
          "name": "stdout"
        }
      ]
    },
    {
      "cell_type": "code",
      "metadata": {
        "id": "I_DLthecKcxb",
        "colab_type": "code",
        "colab": {},
        "outputId": "5ffb2e13-49fb-4774-9d6a-ddfd827cd7e7"
      },
      "source": [
        "list_of_names = ['nikola', 'james', 'albert']\n",
        "list_of_names2 = ['tesla','watt','einstein']\n",
        "proper = lambda x, y: x[0].upper()+x[1:] +' '+ y[0].upper()+y[1:]\n",
        "print(list(map(proper, list_of_names,list_of_names2)))\n"
      ],
      "execution_count": 0,
      "outputs": [
        {
          "output_type": "stream",
          "text": [
            "['Nikola Tesla', 'James Watt', 'Albert Einstein']\n"
          ],
          "name": "stdout"
        }
      ]
    },
    {
      "cell_type": "code",
      "metadata": {
        "id": "wt9HvOcmKcxk",
        "colab_type": "code",
        "colab": {},
        "outputId": "460d5b8e-bfd0-4f67-e137-765998914ffd"
      },
      "source": [
        "#Filter\n",
        "divby3 = lambda x:  x % 3 == 0\n",
        "my_list = [3,4,5,6,7,8,9]\n",
        "div = filter(divby3, my_list)\n",
        "print(list(div))\n",
        "\n"
      ],
      "execution_count": 0,
      "outputs": [
        {
          "output_type": "stream",
          "text": [
            "[3, 6, 9]\n"
          ],
          "name": "stdout"
        }
      ]
    },
    {
      "cell_type": "code",
      "metadata": {
        "id": "344d4o5BKcx1",
        "colab_type": "code",
        "colab": {}
      },
      "source": [
        "#Reduce\n",
        "from functools import reduce\n",
        "q  = reduce(lambda x, y: x+y, range(1,4))\n",
        "print(q)\n"
      ],
      "execution_count": 0,
      "outputs": []
    },
    {
      "cell_type": "code",
      "metadata": {
        "id": "dsCqlViwKcx8",
        "colab_type": "code",
        "colab": {}
      },
      "source": [
        "list_of_nums = [22,45,32,20,87,94,30]\n",
        "print(reduce(lambda x,y: x if x>y else y,list_of_nums))\n"
      ],
      "execution_count": 0,
      "outputs": []
    }
  ]
}