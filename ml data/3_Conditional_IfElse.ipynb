{
  "nbformat": 4,
  "nbformat_minor": 0,
  "metadata": {
    "colab": {
      "name": "3.Conditional - IfElse.ipynb",
      "version": "0.3.2",
      "provenance": []
    },
    "language_info": {
      "codemirror_mode": {
        "name": "ipython",
        "version": 3
      },
      "file_extension": ".py",
      "mimetype": "text/x-python",
      "name": "python",
      "nbconvert_exporter": "python",
      "pygments_lexer": "ipython3",
      "version": "3.7.0"
    },
    "kernelspec": {
      "display_name": "Python 3",
      "language": "python",
      "name": "python3"
    }
  },
  "cells": [
    {
      "cell_type": "code",
      "metadata": {
        "id": "lBr_t72-KGiV",
        "colab_type": "code",
        "colab": {},
        "outputId": "7bbb240b-e816-45fc-d593-4002e640a558"
      },
      "source": [
        "score = int(input(\"Enter your test score : \"))\n",
        "passing = 40\n",
        "distinction = 90\n"
      ],
      "execution_count": 0,
      "outputs": [
        {
          "output_type": "stream",
          "text": [
            "Enter your test score : 67\n"
          ],
          "name": "stdout"
        }
      ]
    },
    {
      "cell_type": "code",
      "metadata": {
        "id": "DgoNGXIXKGit",
        "colab_type": "code",
        "colab": {}
      },
      "source": [
        ""
      ],
      "execution_count": 0,
      "outputs": []
    },
    {
      "cell_type": "code",
      "metadata": {
        "id": "vzormm3oKGjI",
        "colab_type": "code",
        "colab": {},
        "outputId": "f90b0a48-fe30-4ce2-b3b0-dc35e21498bb"
      },
      "source": [
        "if score >= distinction:\n",
        "    print(\"You're at the top! You’ve earned a distinction!\")\n",
        "    \n",
        "if score >= passing and score < distinction:\n",
        "    print(\"You have passed!\")\n",
        "\n",
        "if score < passing:\n",
        "    print(\"Sorry! You have failed\")\n"
      ],
      "execution_count": 0,
      "outputs": [
        {
          "output_type": "stream",
          "text": [
            "You have passed!\n"
          ],
          "name": "stdout"
        }
      ]
    },
    {
      "cell_type": "code",
      "metadata": {
        "id": "-GyVg-G3KGjf",
        "colab_type": "code",
        "colab": {},
        "outputId": "c63f8682-ae51-43ee-a1bf-062dc2396c49"
      },
      "source": [
        "if score==100:\n",
        "    print(\"Perfect\")\n",
        "elif  90<=score<100:\n",
        "    print(\"Distinction\")\n",
        "elif 65<=score<90:\n",
        "    print(\"First Class\")\n",
        "elif 40<=score<65:\n",
        "    print(\"Second Class\")\n",
        "else:\n",
        "    print(\"Failed\")\n"
      ],
      "execution_count": 0,
      "outputs": [
        {
          "output_type": "stream",
          "text": [
            "First Class\n"
          ],
          "name": "stdout"
        }
      ]
    },
    {
      "cell_type": "code",
      "metadata": {
        "id": "H6I_xTeaKGjw",
        "colab_type": "code",
        "colab": {},
        "outputId": "52f24c2c-c329-4d6f-9e77-0c5b404feaa0"
      },
      "source": [
        "statement = \"The coffee is bad\"\n",
        "if 'bad' in statement:\n",
        "    print(\"Bad review!\")\n",
        "\n",
        "statement2 = \"This phone works great\"\n",
        "if 'bad' in statement2:\n",
        "    print(\"This is not a bad review\")\n"
      ],
      "execution_count": 0,
      "outputs": [
        {
          "output_type": "stream",
          "text": [
            "Bad review!\n"
          ],
          "name": "stdout"
        }
      ]
    },
    {
      "cell_type": "code",
      "metadata": {
        "id": "sp1RAK8wKGj9",
        "colab_type": "code",
        "colab": {},
        "outputId": "367eb786-4b13-4e5a-fd7a-f360005912fb"
      },
      "source": [
        "'z' in 'hello'"
      ],
      "execution_count": 0,
      "outputs": [
        {
          "output_type": "execute_result",
          "data": {
            "text/plain": [
              "False"
            ]
          },
          "metadata": {
            "tags": []
          },
          "execution_count": 3
        }
      ]
    },
    {
      "cell_type": "code",
      "metadata": {
        "id": "6n8otwozKGkJ",
        "colab_type": "code",
        "colab": {},
        "outputId": "1163630b-1d8c-4ee8-e6af-a3d16658ed59"
      },
      "source": [
        "num = int(input(\"Enter a number: \"))\n",
        "#enter 24\n",
        "if num%2==0:\n",
        "    print(\"Even\")\n",
        "    if num%4==0:\n",
        "        print(\"divisible by 4\")\n",
        "    else:\n",
        "        print(\"Not divisible by 4\")\n",
        "else:\n",
        "    print(\"Odd\")\n",
        "    if num%3==0:\n",
        "        print(\"Divisible by 3\")\n",
        "    else:\n",
        "        print(\"Not divisible by 3\")\n"
      ],
      "execution_count": 0,
      "outputs": [
        {
          "output_type": "stream",
          "text": [
            "Enter a number: 56\n",
            "Even\n",
            "divisible by 4\n"
          ],
          "name": "stdout"
        }
      ]
    },
    {
      "cell_type": "code",
      "metadata": {
        "id": "-kmxEir3KGkh",
        "colab_type": "code",
        "colab": {},
        "outputId": "12ccfcb3-5e8c-47ac-b8fe-f637c8a30fb5"
      },
      "source": [
        "if None:\n",
        "    print(\"Is True\")\n",
        "else:\n",
        "    print(\"Is False\")"
      ],
      "execution_count": 0,
      "outputs": [
        {
          "output_type": "stream",
          "text": [
            "Is False\n"
          ],
          "name": "stdout"
        }
      ]
    },
    {
      "cell_type": "code",
      "metadata": {
        "id": "U-wey-bvKGkx",
        "colab_type": "code",
        "colab": {}
      },
      "source": [
        ""
      ],
      "execution_count": 0,
      "outputs": []
    }
  ]
}