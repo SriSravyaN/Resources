{
  "nbformat": 4,
  "nbformat_minor": 0,
  "metadata": {
    "colab": {
      "name": "12.Reference Workbook 2 - Data Structures.ipynb",
      "version": "0.3.2",
      "provenance": []
    },
    "language_info": {
      "codemirror_mode": {
        "name": "ipython",
        "version": 3
      },
      "file_extension": ".py",
      "mimetype": "text/x-python",
      "name": "python",
      "nbconvert_exporter": "python",
      "pygments_lexer": "ipython3",
      "version": "3.5.2"
    },
    "kernelspec": {
      "display_name": "Python 3",
      "language": "python",
      "name": "python3"
    }
  },
  "cells": [
    {
      "cell_type": "markdown",
      "metadata": {
        "id": "yZo7eID6KlY5",
        "colab_type": "text"
      },
      "source": [
        "<img src=\"https://upgrad.com/images/upgradlogo.png\" alt=\"Drawing\" style=\"width: 200px;\"/>"
      ]
    },
    {
      "cell_type": "markdown",
      "metadata": {
        "id": "WQ7wyBtQKlY8",
        "colab_type": "text"
      },
      "source": [
        "# Data Structures"
      ]
    },
    {
      "cell_type": "markdown",
      "metadata": {
        "id": "7zyXbp_SKlY9",
        "colab_type": "text"
      },
      "source": [
        "Data structures refer to the collection or group of data in a particular structure."
      ]
    },
    {
      "cell_type": "markdown",
      "metadata": {
        "id": "Qq60jw-yKlY-",
        "colab_type": "text"
      },
      "source": [
        "## Lists"
      ]
    },
    {
      "cell_type": "markdown",
      "metadata": {
        "id": "xtr2qkosKlY_",
        "colab_type": "text"
      },
      "source": [
        "Lists are the most commonly used data structure. Think of it as a sequence of data that is enclosed in square brackets and data are separated by a comma. Each of these data can be accessed by calling it's index value.\n",
        "\n",
        "Lists are declared by just equating a variable to '[ ]' or list. We can use lists to hold an ordered sequence of values."
      ]
    },
    {
      "cell_type": "code",
      "metadata": {
        "id": "ZNbCPOujKlZB",
        "colab_type": "code",
        "colab": {}
      },
      "source": [
        "l = ['first', 'second', 'third']\n",
        "print(l)"
      ],
      "execution_count": 0,
      "outputs": []
    },
    {
      "cell_type": "markdown",
      "metadata": {
        "id": "aAl1McjpKlZH",
        "colab_type": "text"
      },
      "source": [
        "Lists can contain different types of variable, even in the same list."
      ]
    },
    {
      "cell_type": "code",
      "metadata": {
        "id": "WKGdraoRKlZI",
        "colab_type": "code",
        "colab": {}
      },
      "source": [
        "another_list = ['first', 'second', 'third', 1, 2, 3]\n",
        "print(another_list)"
      ],
      "execution_count": 0,
      "outputs": []
    },
    {
      "cell_type": "code",
      "metadata": {
        "id": "wdtcBm6bKlZN",
        "colab_type": "code",
        "colab": {}
      },
      "source": [
        "myList = [1,2,3,4]\n",
        "A = [myList]*3\n",
        "print(A)\n",
        "myList[2]=45\n",
        "print(A)"
      ],
      "execution_count": 0,
      "outputs": []
    },
    {
      "cell_type": "markdown",
      "metadata": {
        "id": "Uk8KKVxRKlZR",
        "colab_type": "text"
      },
      "source": [
        "Lists are mutable; their contents can change as more statements are interpreted."
      ]
    },
    {
      "cell_type": "code",
      "metadata": {
        "id": "HOb3ooSnKlZT",
        "colab_type": "code",
        "colab": {}
      },
      "source": [
        "l.append('fourth')\n",
        "print(l)"
      ],
      "execution_count": 0,
      "outputs": []
    },
    {
      "cell_type": "code",
      "metadata": {
        "collapsed": true,
        "id": "q9zQ70wHKlZX",
        "colab_type": "code",
        "colab": {}
      },
      "source": [
        "list_one = [1, 2, 3]\n",
        "list_two = list_one"
      ],
      "execution_count": 0,
      "outputs": []
    },
    {
      "cell_type": "markdown",
      "metadata": {
        "id": "k6z-VDr1KlZc",
        "colab_type": "text"
      },
      "source": [
        "- The above code creates two different references (named `list_one` and `list_two`) to the *same* value `[1, 2, 3]`\n",
        "\n",
        "- Because lists are mutable, changing them can have side-effects on other variables.\n",
        "\n",
        "- If we append something to `list_one` what will happen to `list_two`?"
      ]
    },
    {
      "cell_type": "code",
      "metadata": {
        "id": "eHMTVOjpKlZd",
        "colab_type": "code",
        "colab": {}
      },
      "source": [
        "list_one.append(4)\n",
        "list_one"
      ],
      "execution_count": 0,
      "outputs": []
    },
    {
      "cell_type": "code",
      "metadata": {
        "id": "r8LrSrMPKlZi",
        "colab_type": "code",
        "colab": {}
      },
      "source": [
        "list_two"
      ],
      "execution_count": 0,
      "outputs": []
    },
    {
      "cell_type": "markdown",
      "metadata": {
        "id": "8wSiSPBdKlZo",
        "colab_type": "text"
      },
      "source": [
        "# List Methods"
      ]
    },
    {
      "cell_type": "markdown",
      "metadata": {
        "id": "MiHsG1kBKlZp",
        "colab_type": "text"
      },
      "source": [
        "| Method Name | Use | Explanation |\n",
        "|----|---|\n",
        "| append | alist.append(item) | Adds a new item to the end of a list |\n",
        "| insert\t| alist.insert(i,item) |\tInserts an item at the ith position in a list |\n",
        "|pop\t|alist.pop()\t|Removes and returns the last item in a list|\n",
        "|pop|\talist.pop(i)|\tRemoves and returns the ith item in a list|\n",
        "|sort|\talist.sort()|\tModifies a list to be sorted|\n",
        "|reverse|\talist.reverse()|\tModifies a list to be in reverse order|\n",
        "|del|\tdel alist[i]|\tDeletes the item in the ith position|\n",
        "|index|\talist.index(item)|\tReturns the index of the first occurrence of item|\n",
        "|count|\talist.count(item)|\tReturns the number of occurrences of item|\n",
        "|remove|\talist.remove(item)|\tRemoves the first occurrence of item|"
      ]
    },
    {
      "cell_type": "markdown",
      "metadata": {
        "id": "gXr9nwv-KlZr",
        "colab_type": "text"
      },
      "source": [
        "# State and identity\n",
        "\n",
        "- The state referred to by a variable is *different* from its identity.\n",
        "\n",
        "- To compare *state* use the `==` operator.\n",
        "\n",
        "- To compare *identity* use the `is` operator.\n",
        "\n",
        "- When we compare identity we check equality of references.\n",
        "\n",
        "- When we compare state we check equality of values.\n"
      ]
    },
    {
      "cell_type": "code",
      "metadata": {
        "collapsed": true,
        "id": "NLE6AA5DKlZu",
        "colab_type": "code",
        "colab": {}
      },
      "source": [
        "X = [1, 2]\n",
        "Y = [1]\n",
        "Y.append(2)"
      ],
      "execution_count": 0,
      "outputs": []
    },
    {
      "cell_type": "code",
      "metadata": {
        "id": "YS97X0MFKlZz",
        "colab_type": "code",
        "colab": {}
      },
      "source": [
        "X == Y"
      ],
      "execution_count": 0,
      "outputs": []
    },
    {
      "cell_type": "code",
      "metadata": {
        "id": "ZW3Ubs1lKlZ6",
        "colab_type": "code",
        "colab": {}
      },
      "source": [
        "X is Y"
      ],
      "execution_count": 0,
      "outputs": []
    },
    {
      "cell_type": "code",
      "metadata": {
        "id": "uP77mv_sKlZ-",
        "colab_type": "code",
        "colab": {}
      },
      "source": [
        "Y.append(3)\n",
        "X"
      ],
      "execution_count": 0,
      "outputs": []
    },
    {
      "cell_type": "markdown",
      "metadata": {
        "id": "p7165YVfKlaB",
        "colab_type": "text"
      },
      "source": [
        "## List Indexing\n",
        "\n",
        "- Lists can be indexed using square brackets to retrieve the element stored in a particular position.  \n",
        "- Indexing is exactly similar to indexing in strings except that indexing in lists returns the entire item at that position whereas in strings, the character at that position is returned\n",
        "\n",
        "\n",
        "\n"
      ]
    },
    {
      "cell_type": "code",
      "metadata": {
        "id": "wUSedW7KKlaD",
        "colab_type": "code",
        "colab": {}
      },
      "source": [
        "print(l[0])\n",
        "print(l[1])"
      ],
      "execution_count": 0,
      "outputs": []
    },
    {
      "cell_type": "markdown",
      "metadata": {
        "id": "J3wTY_dGKlaH",
        "colab_type": "text"
      },
      "source": [
        "## List  Slicing\n",
        "\n",
        "Indexing was only limited to accessing a single element, Slicing on the other hand is accessing a sequence of data inside the list. In other words \"slicing\" the list.\n",
        "\n",
        "Slicing is done by defining the index values of the first element and the last element from the parent list that is required in the sliced list. It is written as parentlist[ a : b ] where a,b are the index values from the parent list. If a or b is not defined then the index value is considered to be the first value for a if a is not defined and the last value for b when b is not defined."
      ]
    },
    {
      "cell_type": "code",
      "metadata": {
        "id": "o3XmfE8lKlaI",
        "colab_type": "code",
        "colab": {}
      },
      "source": [
        "num_range = [0,1,2,3,4,5,6,7,8,9]\n",
        "print(num_range[0:4])\n",
        "print(num_range[4:])"
      ],
      "execution_count": 0,
      "outputs": []
    },
    {
      "cell_type": "markdown",
      "metadata": {
        "id": "gvMJSs4dKlaN",
        "colab_type": "text"
      },
      "source": [
        "**Q. Given the list num_range, try printing:**  \n",
        "    a. Odd numbers  \n",
        "    b. Even numbers  \n",
        "    c. Numbers divisible by 3  \n",
        "    \n",
        "**Hint:** Try using the step-size after the end slice index"
      ]
    },
    {
      "cell_type": "code",
      "metadata": {
        "id": "d3DNNu3FKlaQ",
        "colab_type": "code",
        "colab": {}
      },
      "source": [
        "#Answers here\n"
      ],
      "execution_count": 0,
      "outputs": []
    },
    {
      "cell_type": "markdown",
      "metadata": {
        "id": "L1_wshYzKlaV",
        "colab_type": "text"
      },
      "source": [
        "Q. Find the maximum, minimum and length from the list **num_range**.  \n",
        "**Hint:** Use max(), min() and len() respectively."
      ]
    },
    {
      "cell_type": "code",
      "metadata": {
        "collapsed": true,
        "id": "d--0cOJOKlaY",
        "colab_type": "code",
        "colab": {}
      },
      "source": [
        "#Answer here"
      ],
      "execution_count": 0,
      "outputs": []
    },
    {
      "cell_type": "code",
      "metadata": {
        "collapsed": true,
        "id": "AHr8LkLOKlah",
        "colab_type": "code",
        "colab": {}
      },
      "source": [
        "names = ['Earth','Air','Fire','Water']\n"
      ],
      "execution_count": 0,
      "outputs": []
    },
    {
      "cell_type": "markdown",
      "metadata": {
        "id": "PYgJ2Pv2Klam",
        "colab_type": "text"
      },
      "source": [
        "Lets check if the items 'Air' and 'Wind' are present in the list or not"
      ]
    },
    {
      "cell_type": "code",
      "metadata": {
        "id": "G_XH01UeKlao",
        "colab_type": "code",
        "colab": {}
      },
      "source": [
        "'Wind' in names"
      ],
      "execution_count": 0,
      "outputs": []
    },
    {
      "cell_type": "code",
      "metadata": {
        "id": "AEuj_OrgKlas",
        "colab_type": "code",
        "colab": {}
      },
      "source": [
        "'Air' in names"
      ],
      "execution_count": 0,
      "outputs": []
    },
    {
      "cell_type": "markdown",
      "metadata": {
        "id": "d_KO3WqOKlaz",
        "colab_type": "text"
      },
      "source": [
        "In a list with elements as string, **max( )** and **min( )** is applicable. **max( )** would return a string element whose ASCII value is the highest and the lowest when **min( )** is used. Note that only the first index of each element is considered each time and if they value is the same then second index considered so on and so forth."
      ]
    },
    {
      "cell_type": "code",
      "metadata": {
        "id": "hlFXefLWKla0",
        "colab_type": "code",
        "colab": {}
      },
      "source": [
        "mlist = ['bzaa','ds','nc','az','z','klm']\n",
        "print(max(mlist))\n",
        "print(min(mlist))"
      ],
      "execution_count": 0,
      "outputs": []
    },
    {
      "cell_type": "markdown",
      "metadata": {
        "id": "lHvbiqRbKla6",
        "colab_type": "text"
      },
      "source": [
        "Here the first index of each element is considered and thus z has the highest ASCII value thus it is returned and minimum ASCII is a. But what if numbers are declared as strings?"
      ]
    },
    {
      "cell_type": "code",
      "metadata": {
        "id": "QzVOfDjbKla7",
        "colab_type": "code",
        "colab": {}
      },
      "source": [
        "nlist = ['1','94','93','1000']\n",
        "print(max(nlist))\n",
        "print(min(nlist))"
      ],
      "execution_count": 0,
      "outputs": []
    },
    {
      "cell_type": "markdown",
      "metadata": {
        "id": "xdxwT7vqKla_",
        "colab_type": "text"
      },
      "source": [
        "Even if the numbers are declared in a string the first index of each element is considered and the maximum and minimum values are returned accordingly."
      ]
    },
    {
      "cell_type": "markdown",
      "metadata": {
        "id": "Nvcj9Lv_KlbE",
        "colab_type": "text"
      },
      "source": [
        "But if you want to find the **max( )** string element based on the length of the string then another parameter 'key=len' is declared inside the **max( )** and **min( )** function."
      ]
    },
    {
      "cell_type": "code",
      "metadata": {
        "id": "LKWWdb_DKlbF",
        "colab_type": "code",
        "colab": {}
      },
      "source": [
        "print(max(names, key=len))\n",
        "print(min(names, key=len))"
      ],
      "execution_count": 0,
      "outputs": []
    },
    {
      "cell_type": "markdown",
      "metadata": {
        "id": "Js0_iCqeKlbI",
        "colab_type": "text"
      },
      "source": [
        "A string can be converted into a list by using the list() function."
      ]
    },
    {
      "cell_type": "code",
      "metadata": {
        "id": "eChMvdQOKlbJ",
        "colab_type": "code",
        "colab": {}
      },
      "source": [
        "list('UpGrad')"
      ],
      "execution_count": 0,
      "outputs": []
    },
    {
      "cell_type": "markdown",
      "metadata": {
        "id": "oTkuFncBKlbN",
        "colab_type": "text"
      },
      "source": [
        "List of words? Let's try using .split() which splits a string on the basis of spaces."
      ]
    },
    {
      "cell_type": "code",
      "metadata": {
        "id": "CCIf_aWHKlbO",
        "colab_type": "code",
        "colab": {}
      },
      "source": [
        "test_string = 'I will now convert this to a list of words'\n",
        "print(test_string.split())"
      ],
      "execution_count": 0,
      "outputs": []
    },
    {
      "cell_type": "markdown",
      "metadata": {
        "id": "w-Y8mYQyKlbS",
        "colab_type": "text"
      },
      "source": [
        "What about splitting on something else? Like a period? and then try to make it like a normal sentence using .join?"
      ]
    },
    {
      "cell_type": "code",
      "metadata": {
        "id": "Rsea5JboKlbT",
        "colab_type": "code",
        "colab": {}
      },
      "source": [
        "string_to_split = 'Hi.Can.we.get.rid.of.the.periods.here'\n",
        "list_var = string_to_split.split('.')\n",
        "print(list_var)"
      ],
      "execution_count": 0,
      "outputs": []
    },
    {
      "cell_type": "code",
      "metadata": {
        "id": "oLwhEhu2KlbW",
        "colab_type": "code",
        "colab": {}
      },
      "source": [
        "#Let's join it back with spaces and reassign it to the original name\n",
        "string_to_split = \" \".join(list_var)\n",
        "print(string_to_split)"
      ],
      "execution_count": 0,
      "outputs": []
    },
    {
      "cell_type": "code",
      "metadata": {
        "id": "MOL1M-PRKlbZ",
        "colab_type": "code",
        "colab": {}
      },
      "source": [
        "#Let's do it as a one-liner\n",
        "string_to_split = 'Hi.Can.we.get.rid.of.the.periods.here'\n",
        "out =  \" \".join(string_to_split.split('.'))\n",
        "print(out)"
      ],
      "execution_count": 0,
      "outputs": []
    },
    {
      "cell_type": "markdown",
      "metadata": {
        "id": "kemljU4fKlbc",
        "colab_type": "text"
      },
      "source": [
        "**Q** You have a list of email ids. The username for each email consists of all characters occurring before the @ symbol. You will need to write a code that will return a True or False after accepting user's input on the email id and check if the usernames is in the list of usernames or not. If it is present print True, else print False.  \n",
        "We have provided a template below. Fill it up and test it."
      ]
    },
    {
      "cell_type": "code",
      "metadata": {
        "collapsed": true,
        "id": "y9Xd9HAsKlbc",
        "colab_type": "code",
        "colab": {}
      },
      "source": [
        "list_of_usernames = []\n",
        "\n",
        "#accept email id from user\n",
        "input_name = \n",
        "\n",
        "\"\"\"Treat the input to extract the username from email id - You might also want to treat upper and lower case alike.\n",
        "After extracting you might want to onvert it to lower case before looking it up in your list\"\"\"\n",
        "input_username = \n",
        "\n",
        "#print True if the username is present or print False. Do not use the if-else statement.\n",
        "\n"
      ],
      "execution_count": 0,
      "outputs": []
    },
    {
      "cell_type": "markdown",
      "metadata": {
        "id": "OlNwqHn7Klbh",
        "colab_type": "text"
      },
      "source": [
        "By the way, triple quotes are used for multiline comments. Don't you think something similar can be used during new user signups?"
      ]
    },
    {
      "cell_type": "markdown",
      "metadata": {
        "id": "h9ig60_LKlbj",
        "colab_type": "text"
      },
      "source": [
        "## Sorting"
      ]
    },
    {
      "cell_type": "code",
      "metadata": {
        "id": "20ArdxoHKlbk",
        "colab_type": "code",
        "colab": {}
      },
      "source": [
        "names.sort()\n",
        "print(names)\n",
        "names.sort(reverse=True)\n",
        "print(names)"
      ],
      "execution_count": 0,
      "outputs": []
    },
    {
      "cell_type": "markdown",
      "metadata": {
        "id": "1yIjc5zoKlbn",
        "colab_type": "text"
      },
      "source": [
        "## Reversing"
      ]
    },
    {
      "cell_type": "code",
      "metadata": {
        "id": "yJ3xY_CjKlbo",
        "colab_type": "code",
        "colab": {}
      },
      "source": [
        "print(names)\n",
        "print(list(reversed(names)))"
      ],
      "execution_count": 0,
      "outputs": []
    },
    {
      "cell_type": "markdown",
      "metadata": {
        "id": "Q6hroREJKlbr",
        "colab_type": "text"
      },
      "source": [
        "### Copying a list  \n",
        "Most of the new python programmers commit this mistake. Consider the following,"
      ]
    },
    {
      "cell_type": "code",
      "metadata": {
        "collapsed": true,
        "id": "RcimdnaFKlbs",
        "colab_type": "code",
        "colab": {}
      },
      "source": [
        "lista= [2,1,4,3]"
      ],
      "execution_count": 0,
      "outputs": []
    },
    {
      "cell_type": "code",
      "metadata": {
        "id": "yVBGIBS0Klbv",
        "colab_type": "code",
        "colab": {}
      },
      "source": [
        "listb = lista\n",
        "print(listb)"
      ],
      "execution_count": 0,
      "outputs": []
    },
    {
      "cell_type": "markdown",
      "metadata": {
        "id": "pKx3oaXKKlby",
        "colab_type": "text"
      },
      "source": [
        "Here, We have declared a list, lista = [2,1,4,3]. This list is copied to listb by assigning it's value and it get's copied as seen. Now we perform some random operations on lista."
      ]
    },
    {
      "cell_type": "code",
      "metadata": {
        "id": "_zSX3dpmKlbz",
        "colab_type": "code",
        "colab": {}
      },
      "source": [
        "lista.pop()\n",
        "print(lista)\n",
        "lista.append(9)\n",
        "print(lista)"
      ],
      "execution_count": 0,
      "outputs": []
    },
    {
      "cell_type": "code",
      "metadata": {
        "id": "PpBj9SLpKlb4",
        "colab_type": "code",
        "colab": {}
      },
      "source": [
        "print(listb)"
      ],
      "execution_count": 0,
      "outputs": []
    },
    {
      "cell_type": "markdown",
      "metadata": {
        "id": "_rMDHQcfKlb-",
        "colab_type": "text"
      },
      "source": [
        "listb has also changed though no operation has been performed on it. This is because you have assigned the same memory space of lista to listb. So how do fix this?\n",
        "\n",
        "If you recall, in slicing we had seen that parentlist[a:b] returns a list from parent list with start index a and end index b and if a and b is not mentioned then by default it considers the first and last element. We use the same concept here. By doing so, we are assigning the data of lista to listb as a variable."
      ]
    },
    {
      "cell_type": "code",
      "metadata": {
        "id": "PagmdrWdKlcA",
        "colab_type": "code",
        "colab": {}
      },
      "source": [
        "lista = [2,1,4,3]\n",
        "listb = lista[:]\n",
        "print(listb)\n",
        "lista.pop()\n",
        "print(lista)\n",
        "lista.append(9)\n",
        "print(lista)"
      ],
      "execution_count": 0,
      "outputs": []
    },
    {
      "cell_type": "code",
      "metadata": {
        "id": "hdhHE8LVKlcJ",
        "colab_type": "code",
        "colab": {}
      },
      "source": [
        "print(listb)"
      ],
      "execution_count": 0,
      "outputs": []
    },
    {
      "cell_type": "markdown",
      "metadata": {
        "id": "uqKpkUg0KlcM",
        "colab_type": "text"
      },
      "source": [
        "Take a look at the next block of code to get familiar with the list methods"
      ]
    },
    {
      "cell_type": "code",
      "metadata": {
        "id": "eB-7CWCYKlcO",
        "colab_type": "code",
        "colab": {}
      },
      "source": [
        "myList = [1024, 3, True, 6.5]\n",
        "myList.append(False)\n",
        "print(myList)\n",
        "myList.insert(2,4.5)\n",
        "print(myList)\n",
        "print(myList.pop())\n",
        "print(myList)\n",
        "print(myList.pop(1))\n",
        "print(myList)\n",
        "myList.pop(2)\n",
        "print(myList)\n",
        "myList.sort()\n",
        "print(myList)\n",
        "myList.reverse()\n",
        "print(myList)\n",
        "print(myList.count(6.5))\n",
        "print(myList.index(4.5))\n",
        "myList.remove(6.5)\n",
        "print(myList)\n",
        "del myList[0]\n",
        "print(myList)"
      ],
      "execution_count": 0,
      "outputs": []
    },
    {
      "cell_type": "code",
      "metadata": {
        "collapsed": true,
        "id": "WTqSTfSsKlcT",
        "colab_type": "code",
        "colab": {}
      },
      "source": [
        "#Practice workspace\n",
        "\n",
        "\n",
        "\n",
        "\n",
        "\n"
      ],
      "execution_count": 0,
      "outputs": []
    },
    {
      "cell_type": "markdown",
      "metadata": {
        "id": "mLOJqkgSKlcX",
        "colab_type": "text"
      },
      "source": [
        "# Tuples  \n",
        "\n",
        "- Tuples are another way to combine different values.\n",
        "\n",
        "- The combined values can be of different types.\n",
        "\n",
        "- Like lists, they have a well-defined ordering and can be indexed.\n",
        "\n",
        "- To create a tuple in Python, use round brackets instead of square brackets"
      ]
    },
    {
      "cell_type": "code",
      "metadata": {
        "id": "xAEJjrauKlcZ",
        "colab_type": "code",
        "colab": {}
      },
      "source": [
        "first_tuple = (50, 'hello')\n",
        "first_tuple"
      ],
      "execution_count": 0,
      "outputs": []
    },
    {
      "cell_type": "code",
      "metadata": {
        "id": "3fqrJNfMKlcc",
        "colab_type": "code",
        "colab": {}
      },
      "source": [
        "print(first_tuple[0])\n",
        "print(first_tuple[1])\n",
        "print(type(first_tuple))"
      ],
      "execution_count": 0,
      "outputs": []
    },
    {
      "cell_type": "markdown",
      "metadata": {
        "id": "y4adCbGoKlch",
        "colab_type": "text"
      },
      "source": [
        "## Tuples are immutable\n",
        "\n",
        "- Unlike lists, tuples are *immutable*.  Once we have created a tuple we cannot add values to it.\n"
      ]
    },
    {
      "cell_type": "code",
      "metadata": {
        "id": "j3ez4io8Klck",
        "colab_type": "code",
        "colab": {}
      },
      "source": [
        "first_tuple.append(25)"
      ],
      "execution_count": 0,
      "outputs": []
    },
    {
      "cell_type": "markdown",
      "metadata": {
        "id": "I6IOWFxgKlcn",
        "colab_type": "text"
      },
      "source": [
        "Tuples are similar to lists but only big difference is the elements inside a list can be changed but in tuple it cannot be changed. Think of tuples as something which has to be True for a particular something and cannot be True for no other values. For better understanding, let's use the **divmod()** function."
      ]
    },
    {
      "cell_type": "code",
      "metadata": {
        "id": "TbJVheVhKlcn",
        "colab_type": "code",
        "colab": {}
      },
      "source": [
        "xyz = divmod(10,3)\n",
        "print(xyz)\n",
        "print(type(xyz))"
      ],
      "execution_count": 0,
      "outputs": []
    },
    {
      "cell_type": "markdown",
      "metadata": {
        "id": "oAsIYMJ5Klcq",
        "colab_type": "text"
      },
      "source": [
        "Here the quotient has to be 3 and the remainder has to be 1. These values cannot be changed whatsoever when 10 is divided by 3. Hence divmod returns these values in a tuple."
      ]
    },
    {
      "cell_type": "markdown",
      "metadata": {
        "id": "ToozkdgWKlcr",
        "colab_type": "text"
      },
      "source": [
        "If you want to directly declare a tuple it can be done by using a comma at the end of the data."
      ]
    },
    {
      "cell_type": "code",
      "metadata": {
        "id": "7FEG544iKlct",
        "colab_type": "code",
        "colab": {}
      },
      "source": [
        "27,"
      ],
      "execution_count": 0,
      "outputs": []
    },
    {
      "cell_type": "markdown",
      "metadata": {
        "id": "afaNfDCwKlcx",
        "colab_type": "text"
      },
      "source": [
        "27 when multiplied by 2 yields 54, But when multiplied with a tuple the data is repeated twice."
      ]
    },
    {
      "cell_type": "code",
      "metadata": {
        "id": "0XdEPFvaKlcz",
        "colab_type": "code",
        "colab": {}
      },
      "source": [
        "2*(27,)"
      ],
      "execution_count": 0,
      "outputs": []
    },
    {
      "cell_type": "markdown",
      "metadata": {
        "id": "bjoGlTlNKlc2",
        "colab_type": "text"
      },
      "source": [
        "Values can be assigned while declaring a tuple. It takes a list as input and converts it into a tuple or it takes a string and converts it into a tuple."
      ]
    },
    {
      "cell_type": "code",
      "metadata": {
        "id": "l-iEDwPNKlc3",
        "colab_type": "code",
        "colab": {}
      },
      "source": [
        "tup3 = tuple([1,2,3])\n",
        "print(tup3)\n",
        "tup4 = tuple('Hello')\n",
        "print(tup4)"
      ],
      "execution_count": 0,
      "outputs": []
    },
    {
      "cell_type": "markdown",
      "metadata": {
        "id": "8O5eGlGFKlc9",
        "colab_type": "text"
      },
      "source": [
        "## Slicing  \n",
        "Slicing is similar to lists"
      ]
    },
    {
      "cell_type": "code",
      "metadata": {
        "id": "EFbt2X4BKlc-",
        "colab_type": "code",
        "colab": {}
      },
      "source": [
        "print(tup3[1])\n",
        "tup5 = tup4[:3]\n",
        "print(tup5)"
      ],
      "execution_count": 0,
      "outputs": []
    },
    {
      "cell_type": "markdown",
      "metadata": {
        "id": "kE4R-vJlKldB",
        "colab_type": "text"
      },
      "source": [
        "## Built In Tuple functions  \n",
        "**count()** function counts the number of specified element that is present in the tuple.  \n",
        "**index()** function returns the index of the specified element. If the elements are more than one then the index of the first element of that specified element is returned"
      ]
    },
    {
      "cell_type": "code",
      "metadata": {
        "id": "9AOQtkJ-KldC",
        "colab_type": "code",
        "colab": {}
      },
      "source": [
        "example = (\"Mumbai\",\"Chennai\",\"Delhi\",\"Kolkatta\",\"Mumbai\",\"Bangalore\")\n",
        "print(example.count(\"Mumbai\"))\n",
        "\n",
        "print(example.index(\"Delhi\"))"
      ],
      "execution_count": 0,
      "outputs": []
    },
    {
      "cell_type": "markdown",
      "metadata": {
        "id": "rBothrY4KldG",
        "colab_type": "text"
      },
      "source": [
        "# Dictionary"
      ]
    },
    {
      "cell_type": "markdown",
      "metadata": {
        "id": "NSJ3fbWfKldI",
        "colab_type": "text"
      },
      "source": [
        "Dictionaries are more used like a database because here you can index a particular sequence with your user defined string. To define a dictionary, equate a variable to { } or dict()"
      ]
    },
    {
      "cell_type": "code",
      "metadata": {
        "id": "0bB2u7_uKldJ",
        "colab_type": "code",
        "colab": {}
      },
      "source": [
        "first_dict = {}\n",
        "second_dict = dict()\n",
        "print(type(first_dict), type(second_dict))"
      ],
      "execution_count": 0,
      "outputs": []
    },
    {
      "cell_type": "markdown",
      "metadata": {
        "id": "iZR6x-F9KldM",
        "colab_type": "text"
      },
      "source": [
        "## Dictionary Operators"
      ]
    },
    {
      "cell_type": "markdown",
      "metadata": {
        "id": "gFPiVYnBKldN",
        "colab_type": "text"
      },
      "source": [
        "\n",
        "| Operator | Use | Explanation |\n",
        "|----|---|\n",
        "| [ ] | myDict[k] |Returns the value associated with k, otherwise its an error |\n",
        "| in\t| key in adict |\tReturns True if key is in the dictionary, False otherwise |\n",
        "| del\t|del adict[key]\t|Removes the entry from the dictionary|"
      ]
    },
    {
      "cell_type": "markdown",
      "metadata": {
        "id": "qOpXdzLVKldO",
        "colab_type": "text"
      },
      "source": [
        "Dictionary works somewhat like a list but with an added capability of assigning it's own index style."
      ]
    },
    {
      "cell_type": "code",
      "metadata": {
        "id": "DvmWaDQFKldQ",
        "colab_type": "code",
        "colab": {}
      },
      "source": [
        "first_dict['One'] = 1\n",
        "first_dict['Twelve'] = 12 \n",
        "print(first_dict)"
      ],
      "execution_count": 0,
      "outputs": []
    },
    {
      "cell_type": "code",
      "metadata": {
        "id": "Fh-UJJBPKldf",
        "colab_type": "code",
        "colab": {}
      },
      "source": [
        "'One' in first_dict"
      ],
      "execution_count": 0,
      "outputs": []
    },
    {
      "cell_type": "code",
      "metadata": {
        "id": "p1fyCaRGKldk",
        "colab_type": "code",
        "colab": {}
      },
      "source": [
        "del first_dict['One']\n",
        "print(first_dict)"
      ],
      "execution_count": 0,
      "outputs": []
    },
    {
      "cell_type": "markdown",
      "metadata": {
        "id": "zZPhlAsrKldp",
        "colab_type": "text"
      },
      "source": [
        "## Dictionary Methods"
      ]
    },
    {
      "cell_type": "markdown",
      "metadata": {
        "id": "MHLVRs-vKldq",
        "colab_type": "text"
      },
      "source": [
        "\n",
        "| Method | Use | Explanation |\n",
        "|----|---|\n",
        "| keys | adict.keys() |Returns the keys of the dictionary in a dict_keys object |\n",
        "| values\t| adict.values() |\tReturns the values of the dictionary in a dict_values object |\n",
        "| items\t|adict.items()\t|Returns the key-value pairs in a dict_items object|\n",
        "| get\t|adict.get(k)\t|Returns the value associated with k, None otherwise|\n",
        "| get\t|adict.get(k,alt)\t|Returns the value associated with k, alt otherwise|\n"
      ]
    },
    {
      "cell_type": "code",
      "metadata": {
        "id": "A3yWqgYUKldr",
        "colab_type": "code",
        "colab": {}
      },
      "source": [
        "capitals = {'Maharashtra':'Mumbai','Tamil Nadu':'Chennai'}\n",
        "\n",
        "#get the capital of Maharashtra\n",
        "print(capitals['Maharashtra'])\n",
        "\n",
        "#create a new key Rajasthan whose capital(value) is Jaipur\n",
        "capitals['Rajasthan']='Jaipur'\n",
        "print(capitals)\n",
        "\n",
        "#create another key-value pair\n",
        "capitals['Punjab']='Chandigarh'\n",
        "print(len(capitals))"
      ],
      "execution_count": 0,
      "outputs": []
    },
    {
      "cell_type": "markdown",
      "metadata": {
        "id": "AbcLFjb4Kldt",
        "colab_type": "text"
      },
      "source": [
        "Dictionary keys are unique and hence we cannot have two similar keys. Values can be the same though."
      ]
    },
    {
      "cell_type": "code",
      "metadata": {
        "id": "kjzd1k6AKldu",
        "colab_type": "code",
        "colab": {}
      },
      "source": [
        "capitals['Haryana'] = 'Chandigarh'\n",
        "print(capitals)"
      ],
      "execution_count": 0,
      "outputs": []
    },
    {
      "cell_type": "markdown",
      "metadata": {
        "id": "_Dp_7RBMKldw",
        "colab_type": "text"
      },
      "source": [
        "**values( )** function returns a list with all the assigned values in the dictionary./"
      ]
    },
    {
      "cell_type": "code",
      "metadata": {
        "id": "HfFmG8ftKldx",
        "colab_type": "code",
        "colab": {}
      },
      "source": [
        "print(capitals.values())\n",
        "print(type(capitals.values()))\n"
      ],
      "execution_count": 0,
      "outputs": []
    },
    {
      "cell_type": "code",
      "metadata": {
        "id": "wQLfEjwsKld1",
        "colab_type": "code",
        "colab": {}
      },
      "source": [
        "# to convert to a list use list()\n",
        " \n",
        "capitals_list = list(capitals.values())\n",
        "print(capitals_list)\n",
        "print(type(capitals_list))"
      ],
      "execution_count": 0,
      "outputs": []
    },
    {
      "cell_type": "markdown",
      "metadata": {
        "id": "P_v6u-UNKld5",
        "colab_type": "text"
      },
      "source": [
        "**keys( )** function returns all the index or the keys to which contains the values that it was assigned to."
      ]
    },
    {
      "cell_type": "code",
      "metadata": {
        "id": "LawXSASLKld7",
        "colab_type": "code",
        "colab": {}
      },
      "source": [
        "print(capitals.keys())\n",
        "print(type(capitals.keys()))\n"
      ],
      "execution_count": 0,
      "outputs": []
    },
    {
      "cell_type": "markdown",
      "metadata": {
        "id": "0c1SOTFNKld9",
        "colab_type": "text"
      },
      "source": [
        "**items( )** is returns a list containing both the list but each element in the dictionary is inside a tuple."
      ]
    },
    {
      "cell_type": "code",
      "metadata": {
        "id": "UrGljgTQKld-",
        "colab_type": "code",
        "colab": {}
      },
      "source": [
        "print(capitals.items())\n",
        "\n",
        "#convert to list of tuples\n",
        "print(list(capitals.items()))"
      ],
      "execution_count": 0,
      "outputs": []
    },
    {
      "cell_type": "code",
      "metadata": {
        "id": "nVrQ0n57KleA",
        "colab_type": "code",
        "colab": {}
      },
      "source": [
        "#take a look at the block of code to understand\n",
        "phoneext={'Sachin':1410,'Azhar':1137}\n",
        "print(phoneext)\n",
        "\n",
        "print(phoneext.keys())\n",
        "\n",
        "print(list(phoneext.keys()))\n",
        "print(phoneext.values())\n",
        "print(list(phoneext.values()))\n",
        "\n",
        "print(phoneext.items())\n",
        "\n",
        "print(list(phoneext.items()))\n",
        "\n",
        "print(phoneext.get(\"Dhoni\"))\n",
        "\n",
        "print(phoneext.get(\"Dhoni\",\"Not a part of team\"))\n"
      ],
      "execution_count": 0,
      "outputs": []
    },
    {
      "cell_type": "markdown",
      "metadata": {
        "id": "rBheKgRLKleE",
        "colab_type": "text"
      },
      "source": [
        "# Sets  \n",
        "Sets are mainly used to eliminate repeated numbers in a sequence/list. It is also used to perform some standard set operations.\n",
        "\n",
        "Sets are declared as set() which will initialize a empty set. Also set([sequence]) can be executed to declare a set with elements"
      ]
    },
    {
      "cell_type": "code",
      "metadata": {
        "id": "jiECo9R6KleF",
        "colab_type": "code",
        "colab": {}
      },
      "source": [
        "first_set = set()\n",
        "print(type(first_set))"
      ],
      "execution_count": 0,
      "outputs": []
    },
    {
      "cell_type": "code",
      "metadata": {
        "id": "x-UL3YrgKleH",
        "colab_type": "code",
        "colab": {}
      },
      "source": [
        "second_set = set([1,2,2,3,3,4])\n",
        "print(second_set)"
      ],
      "execution_count": 0,
      "outputs": []
    },
    {
      "cell_type": "markdown",
      "metadata": {
        "id": "OLfFS93pKleK",
        "colab_type": "text"
      },
      "source": [
        "## Set Methods - Built in set functions"
      ]
    },
    {
      "cell_type": "markdown",
      "metadata": {
        "id": "rKpWJx5yKleL",
        "colab_type": "text"
      },
      "source": [
        "\n",
        "| Method Name | Use | Explanation |\n",
        "|----|---|\n",
        "| union | aset.union(otherset) | Returns a new set with all elements from both sets |\n",
        "| intersection\t| aset.intersection(otherset) |\tReturns a new set with only those elements common to both sets |\n",
        "|difference\t|aset.difference(otherset)\t|Returns a new set with all items from first set not in second|\n",
        "|issubset|\taset.issubset(otherset)|\t\tAsks whether all elements of one set are in the other|\n",
        "|add|\taset.add(item)|\tAdds item to the set|\n",
        "|remove|\taset.remove(item)|\tRemoves item from the set|\n",
        "|pop|\taset.pop()|\tRemoves an arbitrary element from the set|\n",
        "|clear|\taset.clear()|\tRemoves all elements from the set|"
      ]
    },
    {
      "cell_type": "code",
      "metadata": {
        "collapsed": true,
        "id": "LR4NVB9nKleM",
        "colab_type": "code",
        "colab": {}
      },
      "source": [
        "set_a = set([1,2,3])\n",
        "set_b = set([2,3,4,5])"
      ],
      "execution_count": 0,
      "outputs": []
    },
    {
      "cell_type": "markdown",
      "metadata": {
        "id": "nTz_lHISKleR",
        "colab_type": "text"
      },
      "source": [
        "- Union: $X \\cup Y$:  \n",
        "**union( )** function returns a set which contains all the elements of both the sets without repetition."
      ]
    },
    {
      "cell_type": "code",
      "metadata": {
        "id": "NyfPlDVXKleT",
        "colab_type": "code",
        "colab": {}
      },
      "source": [
        "set_a.union(set_b)"
      ],
      "execution_count": 0,
      "outputs": []
    },
    {
      "cell_type": "code",
      "metadata": {
        "collapsed": true,
        "id": "OkxKB9h3KleY",
        "colab_type": "code",
        "colab": {}
      },
      "source": [
        "#Union\n",
        "X = {1, 2, 3}\n",
        "Y = {4, 5, 6}"
      ],
      "execution_count": 0,
      "outputs": []
    },
    {
      "cell_type": "markdown",
      "metadata": {
        "id": "cLYzkPoMKled",
        "colab_type": "text"
      },
      "source": [
        "- Intersection: $X \\cap Y$:  \n",
        "**intersection( )** function outputs a set which contains all the elements that are in both sets."
      ]
    },
    {
      "cell_type": "code",
      "metadata": {
        "collapsed": true,
        "id": "nhSq56txKled",
        "colab_type": "code",
        "colab": {}
      },
      "source": [
        "set_a.intersection(set_b)"
      ],
      "execution_count": 0,
      "outputs": []
    },
    {
      "cell_type": "code",
      "metadata": {
        "collapsed": true,
        "id": "_RUEu4jcKleg",
        "colab_type": "code",
        "colab": {}
      },
      "source": [
        "#Intersection\n",
        "X = {1, 2, 3, 4}\n",
        "Y = {3, 4, 5}"
      ],
      "execution_count": 0,
      "outputs": []
    },
    {
      "cell_type": "markdown",
      "metadata": {
        "id": "74k37GiVKlej",
        "colab_type": "text"
      },
      "source": [
        "- Difference $X - Y$:  \n",
        "**difference( )** function ouptuts a set which contains elements that are in set1 and not in set2."
      ]
    },
    {
      "cell_type": "code",
      "metadata": {
        "collapsed": true,
        "id": "ctlQ2r7SKlej",
        "colab_type": "code",
        "colab": {}
      },
      "source": [
        "set_a.difference(set_b)"
      ],
      "execution_count": 0,
      "outputs": []
    },
    {
      "cell_type": "code",
      "metadata": {
        "collapsed": true,
        "id": "cevZoJdqKlel",
        "colab_type": "code",
        "colab": {}
      },
      "source": [
        "#Difference\n",
        "X = {1, 2, 3, 4}\n",
        "Y = {3, 4, 5}"
      ],
      "execution_count": 0,
      "outputs": []
    },
    {
      "cell_type": "markdown",
      "metadata": {
        "id": "XsBLl1aOKlen",
        "colab_type": "text"
      },
      "source": [
        "**symmetric_difference( )** function ouputs a function which contains elements that are in one of the sets."
      ]
    },
    {
      "cell_type": "code",
      "metadata": {
        "id": "-pWsyZWUKleo",
        "colab_type": "code",
        "colab": {}
      },
      "source": [
        "set_b.symmetric_difference(set_a)"
      ],
      "execution_count": 0,
      "outputs": []
    },
    {
      "cell_type": "markdown",
      "metadata": {
        "id": "EcTCuMLpKleq",
        "colab_type": "text"
      },
      "source": [
        "## List to set and vice-versa"
      ]
    },
    {
      "cell_type": "code",
      "metadata": {
        "id": "4CMF7T5iKlet",
        "colab_type": "code",
        "colab": {}
      },
      "source": [
        "list_with_duplicates = ['A','B','A','C','D','C','C','B']\n",
        "print(set(list_with_duplicates))"
      ],
      "execution_count": 0,
      "outputs": []
    },
    {
      "cell_type": "code",
      "metadata": {
        "id": "bFvFA7MHKlev",
        "colab_type": "code",
        "colab": {}
      },
      "source": [
        "#Convert it to a list by wrapping it back to a list\n",
        "print(list(set(list_with_duplicates)))"
      ],
      "execution_count": 0,
      "outputs": []
    }
  ]
}