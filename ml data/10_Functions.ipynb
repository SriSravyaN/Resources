{
  "nbformat": 4,
  "nbformat_minor": 0,
  "metadata": {
    "colab": {
      "name": "10.Functions.ipynb",
      "version": "0.3.2",
      "provenance": []
    },
    "language_info": {
      "codemirror_mode": {
        "name": "ipython",
        "version": 3
      },
      "file_extension": ".py",
      "mimetype": "text/x-python",
      "name": "python",
      "nbconvert_exporter": "python",
      "pygments_lexer": "ipython3",
      "version": "3.7.0"
    },
    "kernelspec": {
      "display_name": "Python 3",
      "language": "python",
      "name": "python3"
    }
  },
  "cells": [
    {
      "cell_type": "code",
      "metadata": {
        "id": "k1fClm48KYs0",
        "colab_type": "code",
        "colab": {},
        "outputId": "e36f8321-d74c-44c7-baeb-4efe82afa194"
      },
      "source": [
        "def scream():\n",
        "    print('Hello World')\n",
        "scream()\n"
      ],
      "execution_count": 0,
      "outputs": [
        {
          "output_type": "stream",
          "text": [
            "Hello World\n"
          ],
          "name": "stdout"
        }
      ]
    },
    {
      "cell_type": "code",
      "metadata": {
        "id": "7r-Sug1mKYs9",
        "colab_type": "code",
        "colab": {},
        "outputId": "a610065b-72d1-4cba-f691-4f77401f5af5"
      },
      "source": [
        "void scream(){printf('Hello World');\n",
        "}\n",
        "int main()\n",
        "{\n",
        "    scream();\n",
        "}"
      ],
      "execution_count": 0,
      "outputs": [
        {
          "output_type": "error",
          "ename": "SyntaxError",
          "evalue": "invalid syntax (<ipython-input-3-998553400cdd>, line 1)",
          "traceback": [
            "\u001b[1;36m  File \u001b[1;32m\"<ipython-input-3-998553400cdd>\"\u001b[1;36m, line \u001b[1;32m1\u001b[0m\n\u001b[1;33m    void scream(){printf('Hello World');\u001b[0m\n\u001b[1;37m              ^\u001b[0m\n\u001b[1;31mSyntaxError\u001b[0m\u001b[1;31m:\u001b[0m invalid syntax\n"
          ]
        }
      ]
    },
    {
      "cell_type": "code",
      "metadata": {
        "id": "HvQeQzn6KYtJ",
        "colab_type": "code",
        "colab": {},
        "outputId": "96586e1c-df1c-4078-811c-43275ccc5256"
      },
      "source": [
        "def square(num):\n",
        "    out = num**2\n",
        "    return(out)\n",
        "square(34)"
      ],
      "execution_count": 0,
      "outputs": [
        {
          "output_type": "execute_result",
          "data": {
            "text/plain": [
              "1156"
            ]
          },
          "metadata": {
            "tags": []
          },
          "execution_count": 7
        }
      ]
    },
    {
      "cell_type": "code",
      "metadata": {
        "id": "qYMhwRt0KYtQ",
        "colab_type": "code",
        "colab": {},
        "outputId": "687e9332-dd80-4a9b-9a40-6e8b097cd8ee"
      },
      "source": [
        "def add(x,y):\n",
        "    x=int(x)\n",
        "    y=int(y)\n",
        "    return x+y\n",
        "add('34','46')"
      ],
      "execution_count": 0,
      "outputs": [
        {
          "output_type": "execute_result",
          "data": {
            "text/plain": [
              "80"
            ]
          },
          "metadata": {
            "tags": []
          },
          "execution_count": 11
        }
      ]
    },
    {
      "cell_type": "code",
      "metadata": {
        "id": "psTsSTdyKYtX",
        "colab_type": "code",
        "colab": {},
        "outputId": "67f5c970-2529-4417-fa44-dfcdcb211e15"
      },
      "source": [
        "sq_3 = square(3)\n",
        "print(sq_3)"
      ],
      "execution_count": 0,
      "outputs": [
        {
          "output_type": "stream",
          "text": [
            "9\n"
          ],
          "name": "stdout"
        }
      ]
    },
    {
      "cell_type": "code",
      "metadata": {
        "id": "ERTw9ntTKYtg",
        "colab_type": "code",
        "colab": {},
        "outputId": "a9ed8559-fc79-4732-dcc9-f1983ef6dc0c"
      },
      "source": [
        "def square(num):\n",
        "    out = num**2\n",
        "    print(out)\n",
        "print(square(5))"
      ],
      "execution_count": 0,
      "outputs": [
        {
          "output_type": "stream",
          "text": [
            "25\n",
            "None\n"
          ],
          "name": "stdout"
        }
      ]
    },
    {
      "cell_type": "code",
      "metadata": {
        "id": "RKASjGJXKYtr",
        "colab_type": "code",
        "colab": {},
        "outputId": "86fdc94c-9305-4b96-912a-4fbe6c6785f6"
      },
      "source": [
        "q = square(4)\n",
        "print(\"Q is\"+str(q))\n"
      ],
      "execution_count": 0,
      "outputs": [
        {
          "output_type": "stream",
          "text": [
            "16\n",
            "Q isNone\n"
          ],
          "name": "stdout"
        }
      ]
    },
    {
      "cell_type": "code",
      "metadata": {
        "id": "04yJ04AeKYt3",
        "colab_type": "code",
        "colab": {},
        "outputId": "c45ce12d-807d-4514-85ae-fdeb37838b18"
      },
      "source": [
        "def factorial(n):\n",
        "    if n>1:\n",
        "        return n*factorial(n-1)\n",
        "    else:\n",
        "        return n\n",
        "\n",
        "fact = factorial(5)\n",
        "print(fact)\n"
      ],
      "execution_count": 0,
      "outputs": [
        {
          "output_type": "stream",
          "text": [
            "120\n"
          ],
          "name": "stdout"
        }
      ]
    },
    {
      "cell_type": "code",
      "metadata": {
        "id": "meImvV1PKYuB",
        "colab_type": "code",
        "colab": {}
      },
      "source": [
        "def addition(*args):\n",
        "    print(args)\n",
        "    return(sum(args))\n"
      ],
      "execution_count": 0,
      "outputs": []
    },
    {
      "cell_type": "code",
      "metadata": {
        "id": "Vesa3pCXKYuI",
        "colab_type": "code",
        "colab": {},
        "outputId": "ab4d6501-791e-4c6a-de8e-664f423f40ef"
      },
      "source": [
        "print(addition(4,5,6,7,8,9))\n",
        "print(addition(1,2))"
      ],
      "execution_count": 0,
      "outputs": [
        {
          "output_type": "stream",
          "text": [
            "(4, 5, 6, 7, 8, 9)\n",
            "39\n",
            "(1, 2)\n",
            "3\n"
          ],
          "name": "stdout"
        }
      ]
    },
    {
      "cell_type": "code",
      "metadata": {
        "id": "P_rLdmxvKYuN",
        "colab_type": "code",
        "colab": {},
        "outputId": "7d5d0faa-4d86-4cc3-b95f-b4874756f946"
      },
      "source": [
        "def proper(some_text):\n",
        "    some_text = some_text.strip()\n",
        "    some_text = [word[0].upper() + word[1:] for word in some_text.split()]\n",
        "    some_text = \" \".join(some_text)\n",
        "    return some_text\n",
        "\n",
        "captain = proper(\"mahendra singh dhoni\")\n",
        "print(captain)\n"
      ],
      "execution_count": 0,
      "outputs": [
        {
          "output_type": "stream",
          "text": [
            "Mahendra Singh Dhoni\n"
          ],
          "name": "stdout"
        }
      ]
    },
    {
      "cell_type": "code",
      "metadata": {
        "id": "xiifLNO6KYuT",
        "colab_type": "code",
        "colab": {}
      },
      "source": [
        "string_to_list = lambda x: x.split()\n",
        "print(string_to_list(captain))\n",
        "print(type(string_to_list))\n"
      ],
      "execution_count": 0,
      "outputs": []
    },
    {
      "cell_type": "code",
      "metadata": {
        "id": "POpg27yCKYuX",
        "colab_type": "code",
        "colab": {}
      },
      "source": [
        "product = lambda x, y : x*y\n",
        "print(product(3,4))\n"
      ],
      "execution_count": 0,
      "outputs": []
    },
    {
      "cell_type": "code",
      "metadata": {
        "collapsed": true,
        "id": "LzSHkzSyKYud",
        "colab_type": "code",
        "colab": {}
      },
      "source": [
        ""
      ],
      "execution_count": 0,
      "outputs": []
    }
  ]
}