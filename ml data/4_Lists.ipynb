{
  "nbformat": 4,
  "nbformat_minor": 0,
  "metadata": {
    "colab": {
      "name": "4.Lists.ipynb",
      "version": "0.3.2",
      "provenance": []
    },
    "language_info": {
      "codemirror_mode": {
        "name": "ipython",
        "version": 3
      },
      "file_extension": ".py",
      "mimetype": "text/x-python",
      "name": "python",
      "nbconvert_exporter": "python",
      "pygments_lexer": "ipython3",
      "version": "3.7.0"
    },
    "kernelspec": {
      "display_name": "Python 3",
      "language": "python",
      "name": "python3"
    }
  },
  "cells": [
    {
      "cell_type": "code",
      "metadata": {
        "id": "BBpYT-s4KIB4",
        "colab_type": "code",
        "colab": {},
        "outputId": "ffe29e0d-ab15-4563-8b4d-292dc13165d1"
      },
      "source": [
        "initial_list = []\n",
        "print(initial_list)"
      ],
      "execution_count": 0,
      "outputs": [
        {
          "output_type": "stream",
          "text": [
            "[]\n"
          ],
          "name": "stdout"
        }
      ]
    },
    {
      "cell_type": "code",
      "metadata": {
        "id": "MKZkUf4uKICA",
        "colab_type": "code",
        "colab": {},
        "outputId": "0ea97156-0993-483d-d016-6ae4a7b01c05"
      },
      "source": [
        "DA_languages = ['R','Python', 'SAS', 'Scala', 42]\n",
        "print(DA_languages)"
      ],
      "execution_count": 0,
      "outputs": [
        {
          "output_type": "stream",
          "text": [
            "['R', 'Python', 'SAS', 'Scala', 42]\n"
          ],
          "name": "stdout"
        }
      ]
    },
    {
      "cell_type": "code",
      "metadata": {
        "id": "Jik-EazLKICI",
        "colab_type": "code",
        "colab": {},
        "outputId": "e3d84ace-b5fb-4403-a4b7-7956a51c6ef3"
      },
      "source": [
        "print(DA_languages[5])"
      ],
      "execution_count": 0,
      "outputs": [
        {
          "output_type": "error",
          "ename": "IndexError",
          "evalue": "list index out of range",
          "traceback": [
            "\u001b[1;31m---------------------------------------------------------------------------\u001b[0m",
            "\u001b[1;31mIndexError\u001b[0m                                Traceback (most recent call last)",
            "\u001b[1;32m<ipython-input-4-ea36b1660c4e>\u001b[0m in \u001b[0;36m<module>\u001b[1;34m()\u001b[0m\n\u001b[1;32m----> 1\u001b[1;33m \u001b[0mprint\u001b[0m\u001b[1;33m(\u001b[0m\u001b[0mDA_languages\u001b[0m\u001b[1;33m[\u001b[0m\u001b[1;36m5\u001b[0m\u001b[1;33m]\u001b[0m\u001b[1;33m)\u001b[0m\u001b[1;33m\u001b[0m\u001b[0m\n\u001b[0m",
            "\u001b[1;31mIndexError\u001b[0m: list index out of range"
          ]
        }
      ]
    },
    {
      "cell_type": "code",
      "metadata": {
        "id": "GEV_VYFAKICO",
        "colab_type": "code",
        "colab": {},
        "outputId": "28abd2d8-c23a-4f69-84ae-97f7777f30c8"
      },
      "source": [
        "print(DA_languages[1:3])\n"
      ],
      "execution_count": 0,
      "outputs": [
        {
          "output_type": "stream",
          "text": [
            "['Python', 'SAS']\n"
          ],
          "name": "stdout"
        }
      ]
    },
    {
      "cell_type": "code",
      "metadata": {
        "id": "iVKxqrDNKICV",
        "colab_type": "code",
        "colab": {},
        "outputId": "3e8c2301-a754-49f0-d280-941e56f5497a"
      },
      "source": [
        "print(DA_languages[0:2])"
      ],
      "execution_count": 0,
      "outputs": [
        {
          "output_type": "stream",
          "text": [
            "['R', 'Python']\n"
          ],
          "name": "stdout"
        }
      ]
    },
    {
      "cell_type": "code",
      "metadata": {
        "id": "DlSe1jRrKICc",
        "colab_type": "code",
        "colab": {},
        "outputId": "a468dcc6-9da1-473a-aaab-88f6cd65255a"
      },
      "source": [
        "print(DA_languages[-1])"
      ],
      "execution_count": 0,
      "outputs": [
        {
          "output_type": "stream",
          "text": [
            "42\n"
          ],
          "name": "stdout"
        }
      ]
    },
    {
      "cell_type": "code",
      "metadata": {
        "id": "VvZQysbSKICk",
        "colab_type": "code",
        "colab": {},
        "outputId": "4cd600d6-9d41-4034-f942-4cd633b30a7e"
      },
      "source": [
        "print(DA_languages[2:])"
      ],
      "execution_count": 0,
      "outputs": [
        {
          "output_type": "stream",
          "text": [
            "['SAS', 'Scala', 42]\n"
          ],
          "name": "stdout"
        }
      ]
    },
    {
      "cell_type": "code",
      "metadata": {
        "id": "hiDCQTrJKICt",
        "colab_type": "code",
        "colab": {},
        "outputId": "aa1c39e1-43ab-4f3a-c2f7-72a34843292a"
      },
      "source": [
        "print(DA_languages[ : -3])"
      ],
      "execution_count": 0,
      "outputs": [
        {
          "output_type": "stream",
          "text": [
            "['R', 'Python']\n"
          ],
          "name": "stdout"
        }
      ]
    },
    {
      "cell_type": "code",
      "metadata": {
        "id": "1NvUWA6XKIC4",
        "colab_type": "code",
        "colab": {},
        "outputId": "ab4b89db-ea9c-4bba-8238-f1bec21351d2"
      },
      "source": [
        "DA_languages = ['R','Python', 'SAS', 'Scala', 42]\n",
        "DA_languages.append('Java')\n",
        "print(DA_languages)"
      ],
      "execution_count": 0,
      "outputs": [
        {
          "output_type": "stream",
          "text": [
            "['R', 'Python', 'SAS', 'Scala', 42, 'Java']\n"
          ],
          "name": "stdout"
        }
      ]
    },
    {
      "cell_type": "code",
      "metadata": {
        "id": "OppBZimrKIDA",
        "colab_type": "code",
        "colab": {},
        "outputId": "3fc9dd43-db24-462b-eab3-15a190b54d99"
      },
      "source": [
        "DA_languages.pop()"
      ],
      "execution_count": 0,
      "outputs": [
        {
          "output_type": "execute_result",
          "data": {
            "text/plain": [
              "'Java'"
            ]
          },
          "metadata": {
            "tags": []
          },
          "execution_count": 11
        }
      ]
    },
    {
      "cell_type": "code",
      "metadata": {
        "id": "03NTHOYRKIDK",
        "colab_type": "code",
        "colab": {},
        "outputId": "c25b976c-9bc7-445b-e637-3334d3f37187"
      },
      "source": [
        "DA_languages"
      ],
      "execution_count": 0,
      "outputs": [
        {
          "output_type": "execute_result",
          "data": {
            "text/plain": [
              "['R', 'Python', 'SAS', 'Scala', 42]"
            ]
          },
          "metadata": {
            "tags": []
          },
          "execution_count": 12
        }
      ]
    },
    {
      "cell_type": "code",
      "metadata": {
        "id": "wg5HnBn_KIDR",
        "colab_type": "code",
        "colab": {},
        "outputId": "3e218bb8-dfd3-4f3b-de9a-8b4b07069bf9"
      },
      "source": [
        "DA_languages.pop(0) \n",
        "print(DA_languages)"
      ],
      "execution_count": 0,
      "outputs": [
        {
          "output_type": "stream",
          "text": [
            "['Python', 'SAS', 'Scala', 42]\n"
          ],
          "name": "stdout"
        }
      ]
    },
    {
      "cell_type": "code",
      "metadata": {
        "id": "7H7vRHVTKIDY",
        "colab_type": "code",
        "colab": {},
        "outputId": "8ad18cdd-c963-463d-bcda-6651f9f5b4e9"
      },
      "source": [
        "help(DA_languages.pop)"
      ],
      "execution_count": 0,
      "outputs": [
        {
          "output_type": "stream",
          "text": [
            "Help on built-in function pop:\n",
            "\n",
            "pop(index=-1, /) method of builtins.list instance\n",
            "    Remove and return item at index (default last).\n",
            "    \n",
            "    Raises IndexError if list is empty or index is out of range.\n",
            "\n"
          ],
          "name": "stdout"
        }
      ]
    },
    {
      "cell_type": "code",
      "metadata": {
        "id": "YMPriUzEKIDg",
        "colab_type": "code",
        "colab": {}
      },
      "source": [
        "DA_languages.pop(1)\n",
        "print(DA_languages)"
      ],
      "execution_count": 0,
      "outputs": []
    },
    {
      "cell_type": "code",
      "metadata": {
        "id": "KsngUL_gKIDn",
        "colab_type": "code",
        "colab": {},
        "outputId": "5766fc58-e901-4c9c-9025-e118d2dd80e7"
      },
      "source": [
        "DA_languages.append('R')\n",
        "DA_languages.append('V')\n",
        "DA_languages.append('R')\n",
        "print(DA_languages)\n",
        "DA_languages.remove('R')\n",
        "print(DA_languages)\n"
      ],
      "execution_count": 0,
      "outputs": [
        {
          "output_type": "stream",
          "text": [
            "['Python', 'SAS', 'Scala', 42, 'R', 'R', 'V', 'R']\n",
            "['Python', 'SAS', 'Scala', 42, 'R', 'V', 'R']\n"
          ],
          "name": "stdout"
        }
      ]
    },
    {
      "cell_type": "code",
      "metadata": {
        "id": "hCkTQkpQKIDs",
        "colab_type": "code",
        "colab": {},
        "outputId": "a916062c-7573-4ea7-f47e-e3cf15bf9a59"
      },
      "source": [
        "print(DA_languages.append('R'))\n"
      ],
      "execution_count": 0,
      "outputs": [
        {
          "output_type": "stream",
          "text": [
            "None\n"
          ],
          "name": "stdout"
        }
      ]
    },
    {
      "cell_type": "code",
      "metadata": {
        "id": "ZNUQdmYbKIDx",
        "colab_type": "code",
        "colab": {},
        "outputId": "47fd230b-b56f-490a-8f65-94ee1f2452f6"
      },
      "source": [
        "DA_languages"
      ],
      "execution_count": 0,
      "outputs": [
        {
          "output_type": "execute_result",
          "data": {
            "text/plain": [
              "['Python', 'SAS', 'Scala', 42, 'R', 'V', 'R', 'R']"
            ]
          },
          "metadata": {
            "tags": []
          },
          "execution_count": 20
        }
      ]
    },
    {
      "cell_type": "code",
      "metadata": {
        "id": "7DrX90roKID4",
        "colab_type": "code",
        "colab": {},
        "outputId": "2c55bc9b-b650-4746-88cb-46a09b358371"
      },
      "source": [
        "new_list = DA_languages\n",
        "DA_languages.append('Java')\n",
        "print(new_list)\n"
      ],
      "execution_count": 0,
      "outputs": [
        {
          "output_type": "stream",
          "text": [
            "['Python', 'SAS', 'Scala', 42, 'R', 'V', 'R', 'R', 'Java']\n"
          ],
          "name": "stdout"
        }
      ]
    },
    {
      "cell_type": "code",
      "metadata": {
        "id": "a6gOD8XjKID-",
        "colab_type": "code",
        "colab": {},
        "outputId": "848c4db2-3ad2-47b9-801c-0f495df39b7f"
      },
      "source": [
        "print(id(DA_languages))"
      ],
      "execution_count": 0,
      "outputs": [
        {
          "output_type": "stream",
          "text": [
            "2043916746888\n"
          ],
          "name": "stdout"
        }
      ]
    },
    {
      "cell_type": "code",
      "metadata": {
        "id": "rG0G043hKIED",
        "colab_type": "code",
        "colab": {},
        "outputId": "0ab2c053-d0ed-4a3c-e9c2-28525437c47a"
      },
      "source": [
        "print(id(new_list))"
      ],
      "execution_count": 0,
      "outputs": [
        {
          "output_type": "stream",
          "text": [
            "2043916746888\n"
          ],
          "name": "stdout"
        }
      ]
    },
    {
      "cell_type": "code",
      "metadata": {
        "id": "cvvv7D3PKIEI",
        "colab_type": "code",
        "colab": {},
        "outputId": "2f7fdf5b-a377-4102-b6bb-cbb012972be4"
      },
      "source": [
        "new_list = DA_languages[:]\n",
        "print(id(new_list))"
      ],
      "execution_count": 0,
      "outputs": [
        {
          "output_type": "stream",
          "text": [
            "2043906721096\n"
          ],
          "name": "stdout"
        }
      ]
    },
    {
      "cell_type": "code",
      "metadata": {
        "id": "Im7ju8DYKIEO",
        "colab_type": "code",
        "colab": {},
        "outputId": "d1bdf707-c02d-4e8b-e077-ef807334a9e6"
      },
      "source": [
        "another_list = DA_languages.copy()\n",
        "print(id(another_list))"
      ],
      "execution_count": 0,
      "outputs": [
        {
          "output_type": "stream",
          "text": [
            "2043917061640\n"
          ],
          "name": "stdout"
        }
      ]
    },
    {
      "cell_type": "code",
      "metadata": {
        "id": "SzsUtXCTKIEV",
        "colab_type": "code",
        "colab": {},
        "outputId": "24dfa9d9-8b1a-46ec-de7b-fc943354d448"
      },
      "source": [
        "dir(str)"
      ],
      "execution_count": 0,
      "outputs": [
        {
          "output_type": "execute_result",
          "data": {
            "text/plain": [
              "['__add__',\n",
              " '__class__',\n",
              " '__contains__',\n",
              " '__delattr__',\n",
              " '__dir__',\n",
              " '__doc__',\n",
              " '__eq__',\n",
              " '__format__',\n",
              " '__ge__',\n",
              " '__getattribute__',\n",
              " '__getitem__',\n",
              " '__getnewargs__',\n",
              " '__gt__',\n",
              " '__hash__',\n",
              " '__init__',\n",
              " '__init_subclass__',\n",
              " '__iter__',\n",
              " '__le__',\n",
              " '__len__',\n",
              " '__lt__',\n",
              " '__mod__',\n",
              " '__mul__',\n",
              " '__ne__',\n",
              " '__new__',\n",
              " '__reduce__',\n",
              " '__reduce_ex__',\n",
              " '__repr__',\n",
              " '__rmod__',\n",
              " '__rmul__',\n",
              " '__setattr__',\n",
              " '__sizeof__',\n",
              " '__str__',\n",
              " '__subclasshook__',\n",
              " 'capitalize',\n",
              " 'casefold',\n",
              " 'center',\n",
              " 'count',\n",
              " 'encode',\n",
              " 'endswith',\n",
              " 'expandtabs',\n",
              " 'find',\n",
              " 'format',\n",
              " 'format_map',\n",
              " 'index',\n",
              " 'isalnum',\n",
              " 'isalpha',\n",
              " 'isascii',\n",
              " 'isdecimal',\n",
              " 'isdigit',\n",
              " 'isidentifier',\n",
              " 'islower',\n",
              " 'isnumeric',\n",
              " 'isprintable',\n",
              " 'isspace',\n",
              " 'istitle',\n",
              " 'isupper',\n",
              " 'join',\n",
              " 'ljust',\n",
              " 'lower',\n",
              " 'lstrip',\n",
              " 'maketrans',\n",
              " 'partition',\n",
              " 'replace',\n",
              " 'rfind',\n",
              " 'rindex',\n",
              " 'rjust',\n",
              " 'rpartition',\n",
              " 'rsplit',\n",
              " 'rstrip',\n",
              " 'split',\n",
              " 'splitlines',\n",
              " 'startswith',\n",
              " 'strip',\n",
              " 'swapcase',\n",
              " 'title',\n",
              " 'translate',\n",
              " 'upper',\n",
              " 'zfill']"
            ]
          },
          "metadata": {
            "tags": []
          },
          "execution_count": 28
        }
      ]
    },
    {
      "cell_type": "code",
      "metadata": {
        "id": "g5OR4Ph2KIEd",
        "colab_type": "code",
        "colab": {},
        "outputId": "18de3889-be55-4725-c989-0ffa5eb6a82f"
      },
      "source": [
        "help(str.capitalize)"
      ],
      "execution_count": 0,
      "outputs": [
        {
          "output_type": "stream",
          "text": [
            "Help on method_descriptor:\n",
            "\n",
            "capitalize(self, /)\n",
            "    Return a capitalized version of the string.\n",
            "    \n",
            "    More specifically, make the first character have upper case and the rest lower\n",
            "    case.\n",
            "\n"
          ],
          "name": "stdout"
        }
      ]
    },
    {
      "cell_type": "code",
      "metadata": {
        "id": "_iceYjZAKIEi",
        "colab_type": "code",
        "colab": {}
      },
      "source": [
        "a_sentence = \"Hi Saif, this is to inform you that I'm not well today.\""
      ],
      "execution_count": 0,
      "outputs": []
    },
    {
      "cell_type": "code",
      "metadata": {
        "id": "EN00OKgGKIEm",
        "colab_type": "code",
        "colab": {},
        "outputId": "0cf75076-e235-46b9-8985-2c70cef9af8d"
      },
      "source": [
        "words_in_sentence = a_sentence.split() \n",
        "print(words_in_sentence)"
      ],
      "execution_count": 0,
      "outputs": [
        {
          "output_type": "stream",
          "text": [
            "['Hi', 'Saif,', 'this', 'is', 'to', 'inform', 'you', 'that', \"I'm\", 'not', 'well', 'today.']\n"
          ],
          "name": "stdout"
        }
      ]
    },
    {
      "cell_type": "code",
      "metadata": {
        "id": "xe16KDX8KIEu",
        "colab_type": "code",
        "colab": {}
      },
      "source": [
        "a_mail = \"Hi Saif, this is to inform you that I'm not well today. I won't be coming to office, but I'm available on call. Thanks.\""
      ],
      "execution_count": 0,
      "outputs": []
    },
    {
      "cell_type": "code",
      "metadata": {
        "id": "W-tu4GixKIEz",
        "colab_type": "code",
        "colab": {},
        "outputId": "20fa152e-61a6-4984-8748-6034e53e7cf2"
      },
      "source": [
        "sentences_in_mail = a_mail.split('.')\n",
        "print(sentences_in_mail)"
      ],
      "execution_count": 0,
      "outputs": [
        {
          "output_type": "stream",
          "text": [
            "[\"Hi Saif, this is to inform you that I'm not well today\", \" I won't be coming to office, but I'm available on call\", ' Thanks', '']\n"
          ],
          "name": "stdout"
        }
      ]
    },
    {
      "cell_type": "code",
      "metadata": {
        "id": "V_8fuK35KIE5",
        "colab_type": "code",
        "colab": {},
        "outputId": "6171817f-c8a8-48aa-a800-6b87b62916fc"
      },
      "source": [
        "mail = \" \".join(sentences_in_mail)\n",
        "print(mail)"
      ],
      "execution_count": 0,
      "outputs": [
        {
          "output_type": "stream",
          "text": [
            "Hi Saif, this is to inform you that I'm not well today  I won't be coming to office, but I'm available on call  Thanks \n"
          ],
          "name": "stdout"
        }
      ]
    },
    {
      "cell_type": "code",
      "metadata": {
        "id": "9OoIB_C2KIFC",
        "colab_type": "code",
        "colab": {},
        "outputId": "4fec42a9-65e5-4a7e-89a6-1da8ea9030cc"
      },
      "source": [
        "mail_new = \" & \".join(sentences_in_mail)\n",
        "print(mail_new)"
      ],
      "execution_count": 0,
      "outputs": [
        {
          "output_type": "stream",
          "text": [
            "Hi Saif, this is to inform you that I'm not well today &  I won't be coming to office, but I'm available on call &  Thanks & \n"
          ],
          "name": "stdout"
        }
      ]
    },
    {
      "cell_type": "code",
      "metadata": {
        "id": "FH2Is7OVKIFH",
        "colab_type": "code",
        "colab": {},
        "outputId": "705b2917-d50f-440f-d645-84a949b7e90d"
      },
      "source": [
        "my_list = [\"Hi\",'hello']\n",
        "print(my_list*5)"
      ],
      "execution_count": 0,
      "outputs": [
        {
          "output_type": "stream",
          "text": [
            "['Hi', 'hello', 'Hi', 'hello', 'Hi', 'hello', 'Hi', 'hello', 'Hi', 'hello']\n"
          ],
          "name": "stdout"
        }
      ]
    },
    {
      "cell_type": "code",
      "metadata": {
        "id": "-OCn4Zi9KIFW",
        "colab_type": "code",
        "colab": {},
        "outputId": "fd1d4cf3-731a-48dc-fca4-3d4c6610d6c3"
      },
      "source": [
        "print(my_list + my_list)"
      ],
      "execution_count": 0,
      "outputs": [
        {
          "output_type": "stream",
          "text": [
            "['Hi', 'hello', 'Hi', 'hello']\n"
          ],
          "name": "stdout"
        }
      ]
    },
    {
      "cell_type": "code",
      "metadata": {
        "id": "5OrtJM7LKIFc",
        "colab_type": "code",
        "colab": {},
        "outputId": "33e73cda-7871-4033-9202-281447e69c7b"
      },
      "source": [
        "nums = [2,6,9,3,2,1]\n",
        "print(len(nums))"
      ],
      "execution_count": 0,
      "outputs": [
        {
          "output_type": "stream",
          "text": [
            "6\n"
          ],
          "name": "stdout"
        }
      ]
    },
    {
      "cell_type": "code",
      "metadata": {
        "id": "L90CwSnzKIFi",
        "colab_type": "code",
        "colab": {},
        "outputId": "88edfb8b-6fd8-4fed-cf9a-0f0634d4b4cd"
      },
      "source": [
        "print(sorted(nums))"
      ],
      "execution_count": 0,
      "outputs": [
        {
          "output_type": "stream",
          "text": [
            "[1, 2, 2, 3, 6, 9]\n"
          ],
          "name": "stdout"
        }
      ]
    },
    {
      "cell_type": "code",
      "metadata": {
        "id": "A97u1fZAKIFu",
        "colab_type": "code",
        "colab": {},
        "outputId": "35212cb8-9390-47c4-aa15-cea592a56ae7"
      },
      "source": [
        "nums"
      ],
      "execution_count": 0,
      "outputs": [
        {
          "output_type": "execute_result",
          "data": {
            "text/plain": [
              "[2, 6, 9, 3, 2, 1]"
            ]
          },
          "metadata": {
            "tags": []
          },
          "execution_count": 43
        }
      ]
    },
    {
      "cell_type": "code",
      "metadata": {
        "id": "JFQ6etg0KIF3",
        "colab_type": "code",
        "colab": {},
        "outputId": "55bfeb6b-8a8c-405b-bda6-5c99df057057"
      },
      "source": [
        "print(max(nums))"
      ],
      "execution_count": 0,
      "outputs": [
        {
          "output_type": "stream",
          "text": [
            "9\n"
          ],
          "name": "stdout"
        }
      ]
    },
    {
      "cell_type": "code",
      "metadata": {
        "id": "2LNgivjJKIF-",
        "colab_type": "code",
        "colab": {},
        "outputId": "2de2c43f-aed5-44c6-b160-d35ce0502b3b"
      },
      "source": [
        "print(min(nums))"
      ],
      "execution_count": 0,
      "outputs": [
        {
          "output_type": "stream",
          "text": [
            "1\n"
          ],
          "name": "stdout"
        }
      ]
    },
    {
      "cell_type": "code",
      "metadata": {
        "id": "T7z4fkV4KIGC",
        "colab_type": "code",
        "colab": {},
        "outputId": "d5b199a3-e9d5-4bdf-da6e-98a538dc4a62"
      },
      "source": [
        "nest = [[1, 2, 3, 4], [ 5, 6, 7], [8, 9, 10]]\n",
        "\n",
        "print(nest[1])\n"
      ],
      "execution_count": 0,
      "outputs": [
        {
          "output_type": "stream",
          "text": [
            "[5, 6, 7]\n"
          ],
          "name": "stdout"
        }
      ]
    },
    {
      "cell_type": "code",
      "metadata": {
        "id": "TtYYik_nKIGG",
        "colab_type": "code",
        "colab": {},
        "outputId": "9e7e29e5-dc08-42b2-aba7-084cd2c17dc8"
      },
      "source": [
        "print(nest[0][1])"
      ],
      "execution_count": 0,
      "outputs": [
        {
          "output_type": "stream",
          "text": [
            "2\n"
          ],
          "name": "stdout"
        }
      ]
    },
    {
      "cell_type": "code",
      "metadata": {
        "id": "OsVvWGZgKIGK",
        "colab_type": "code",
        "colab": {},
        "outputId": "f0cae99f-fcf2-4a56-b032-28a849a1cb52"
      },
      "source": [
        "print(nest[0:2])"
      ],
      "execution_count": 0,
      "outputs": [
        {
          "output_type": "stream",
          "text": [
            "[[1, 2, 3, 4], [5, 6, 7]]\n"
          ],
          "name": "stdout"
        }
      ]
    },
    {
      "cell_type": "code",
      "metadata": {
        "id": "sSmX_15iKIGO",
        "colab_type": "code",
        "colab": {},
        "outputId": "1296a114-5e89-4ce2-89a7-3bf1c05afdbb"
      },
      "source": [
        "s ='vghh jhf hjfh t'\n",
        "import time\n",
        "st=float(time.time())\n",
        "s.rsplit()\n",
        "stop=float(time.time())\n",
        "st-stop"
      ],
      "execution_count": 0,
      "outputs": [
        {
          "output_type": "execute_result",
          "data": {
            "text/plain": [
              "0.0"
            ]
          },
          "metadata": {
            "tags": []
          },
          "execution_count": 81
        }
      ]
    },
    {
      "cell_type": "code",
      "metadata": {
        "id": "NkBPITFpKIGS",
        "colab_type": "code",
        "colab": {},
        "outputId": "92658f8e-1342-4a07-d20d-7d6222a9e95f"
      },
      "source": [
        "st=float(time.time())\n",
        "s.split()\n",
        "stop=float(time.time())\n",
        "st-stop"
      ],
      "execution_count": 0,
      "outputs": [
        {
          "output_type": "execute_result",
          "data": {
            "text/plain": [
              "0.0"
            ]
          },
          "metadata": {
            "tags": []
          },
          "execution_count": 82
        }
      ]
    },
    {
      "cell_type": "code",
      "metadata": {
        "id": "aBqXZXDqKIGY",
        "colab_type": "code",
        "colab": {},
        "outputId": "2fb2432a-943f-4796-9456-a6fed0973499"
      },
      "source": [
        "help(s.rsplit)"
      ],
      "execution_count": 0,
      "outputs": [
        {
          "output_type": "stream",
          "text": [
            "Help on built-in function rsplit:\n",
            "\n",
            "rsplit(sep=None, maxsplit=-1) method of builtins.str instance\n",
            "    Return a list of the words in the string, using sep as the delimiter string.\n",
            "    \n",
            "      sep\n",
            "        The delimiter according which to split the string.\n",
            "        None (the default value) means split according to any whitespace,\n",
            "        and discard empty strings from the result.\n",
            "      maxsplit\n",
            "        Maximum number of splits to do.\n",
            "        -1 (the default value) means no limit.\n",
            "    \n",
            "    Splits are done starting at the end of the string and working to the front.\n",
            "\n"
          ],
          "name": "stdout"
        }
      ]
    },
    {
      "cell_type": "code",
      "metadata": {
        "id": "Di6AvL-oKIGd",
        "colab_type": "code",
        "colab": {}
      },
      "source": [
        "from timeit import timeit\n",
        "timeit('\"abcdefghijklmnopqrstuvwxyz,1\".split(\",\", 1)')\n"
      ],
      "execution_count": 0,
      "outputs": []
    },
    {
      "cell_type": "code",
      "metadata": {
        "id": "_ryQNYlFKIGg",
        "colab_type": "code",
        "colab": {},
        "outputId": "d44b6133-3bbf-4bb2-d6a5-1c9ffb1231e7"
      },
      "source": [
        "timeit('\"abcdefghijklmnopqrstuvwxyz,1\".rsplit(\",\", 1)')\n"
      ],
      "execution_count": 0,
      "outputs": [
        {
          "output_type": "stream",
          "text": [
            "8.1 ns ± 0.0888 ns per loop (mean ± std. dev. of 7 runs, 100000000 loops each)\n"
          ],
          "name": "stdout"
        }
      ]
    },
    {
      "cell_type": "code",
      "metadata": {
        "id": "RJ14hj0BKIGl",
        "colab_type": "code",
        "colab": {},
        "outputId": "538918db-9a16-4267-a7ae-c19fc5ef7644"
      },
      "source": [
        "s='          hlikl.l;     '\n",
        "s.rstrip()"
      ],
      "execution_count": 0,
      "outputs": [
        {
          "output_type": "execute_result",
          "data": {
            "text/plain": [
              "'          hlikl.l;'"
            ]
          },
          "metadata": {
            "tags": []
          },
          "execution_count": 84
        }
      ]
    },
    {
      "cell_type": "code",
      "metadata": {
        "id": "5LVSiVRKKIGw",
        "colab_type": "code",
        "colab": {},
        "outputId": "8e514efe-6bbc-47e6-9eb0-3e9a8259f2d3"
      },
      "source": [
        "s.lstrip()"
      ],
      "execution_count": 0,
      "outputs": [
        {
          "output_type": "execute_result",
          "data": {
            "text/plain": [
              "'hlikl.l;     '"
            ]
          },
          "metadata": {
            "tags": []
          },
          "execution_count": 85
        }
      ]
    },
    {
      "cell_type": "code",
      "metadata": {
        "id": "YSsmfzDjKIGz",
        "colab_type": "code",
        "colab": {},
        "outputId": "f7856e92-da67-48e0-d569-68b53f4f1717"
      },
      "source": [
        "s"
      ],
      "execution_count": 0,
      "outputs": [
        {
          "output_type": "execute_result",
          "data": {
            "text/plain": [
              "'          hlikl.l;     '"
            ]
          },
          "metadata": {
            "tags": []
          },
          "execution_count": 86
        }
      ]
    },
    {
      "cell_type": "code",
      "metadata": {
        "id": "1ft3afhHKIG4",
        "colab_type": "code",
        "colab": {}
      },
      "source": [
        ""
      ],
      "execution_count": 0,
      "outputs": []
    }
  ]
}