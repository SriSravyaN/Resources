{
  "nbformat": 4,
  "nbformat_minor": 0,
  "metadata": {
    "colab": {
      "name": "7.Dictionaries.ipynb",
      "version": "0.3.2",
      "provenance": []
    },
    "language_info": {
      "codemirror_mode": {
        "name": "ipython",
        "version": 3
      },
      "file_extension": ".py",
      "mimetype": "text/x-python",
      "name": "python",
      "nbconvert_exporter": "python",
      "pygments_lexer": "ipython3",
      "version": "3.7.0"
    },
    "kernelspec": {
      "display_name": "Python 3",
      "language": "python",
      "name": "python3"
    }
  },
  "cells": [
    {
      "cell_type": "code",
      "metadata": {
        "id": "bj0eBkcZKT4o",
        "colab_type": "code",
        "colab": {},
        "outputId": "000e3ed2-9a0d-4180-bfb1-40245e73cd45"
      },
      "source": [
        "empty_dictionary = {}\n",
        "print(type(empty_dictionary))"
      ],
      "execution_count": 0,
      "outputs": [
        {
          "output_type": "stream",
          "text": [
            "<class 'dict'>\n"
          ],
          "name": "stdout"
        }
      ]
    },
    {
      "cell_type": "code",
      "metadata": {
        "id": "-aedXxzuKT45",
        "colab_type": "code",
        "colab": {},
        "outputId": "ef8a6472-468d-45d4-9609-42aa94d43122"
      },
      "source": [
        "bio_data = {'Name': 'Bob Marley', 'Age':35, 'Height':\"5.6 ft\", 'Hobby': 'Music'}\n",
        "print(bio_data)"
      ],
      "execution_count": 0,
      "outputs": [
        {
          "output_type": "stream",
          "text": [
            "{'Name': 'Bob Marley', 'Age': 35, 'Height': '5.6 ft', 'Hobby': 'Music'}\n"
          ],
          "name": "stdout"
        }
      ]
    },
    {
      "cell_type": "code",
      "metadata": {
        "id": "vlOQAgwmKT5G",
        "colab_type": "code",
        "colab": {}
      },
      "source": [
        "credentials = { 'UserA' : 'wkliopnc' , 'UserB': 98760 , 'UserC' :98760 } "
      ],
      "execution_count": 0,
      "outputs": []
    },
    {
      "cell_type": "code",
      "metadata": {
        "id": "jjBdQPGuKT5N",
        "colab_type": "code",
        "colab": {},
        "outputId": "abd56a17-bfec-4eda-cedb-467d75985f1e"
      },
      "source": [
        "bio_data['Name']"
      ],
      "execution_count": 0,
      "outputs": [
        {
          "output_type": "execute_result",
          "data": {
            "text/plain": [
              "'Bob Marley'"
            ]
          },
          "metadata": {
            "tags": []
          },
          "execution_count": 5
        }
      ]
    },
    {
      "cell_type": "code",
      "metadata": {
        "id": "tpubSMZ8KT5W",
        "colab_type": "code",
        "colab": {},
        "outputId": "bbc41f34-a75b-4c2b-9923-b193b2f66afe"
      },
      "source": [
        "hobby = bio_data['Hobby']\n",
        "print(hobby)"
      ],
      "execution_count": 0,
      "outputs": [
        {
          "output_type": "stream",
          "text": [
            "Music\n"
          ],
          "name": "stdout"
        }
      ]
    },
    {
      "cell_type": "code",
      "metadata": {
        "id": "o66M08sRKT5f",
        "colab_type": "code",
        "colab": {},
        "outputId": "c98e41b7-041c-40df-fc6b-cbed50a3ff75"
      },
      "source": [
        "age = bio_data['Age']\n",
        "print(age)"
      ],
      "execution_count": 0,
      "outputs": [
        {
          "output_type": "stream",
          "text": [
            "35\n"
          ],
          "name": "stdout"
        }
      ]
    },
    {
      "cell_type": "code",
      "metadata": {
        "id": "q63mSvv9KT5r",
        "colab_type": "code",
        "colab": {},
        "outputId": "83ad45da-fb2a-4edd-b844-4efdbe96d08f"
      },
      "source": [
        "help(dict.get)"
      ],
      "execution_count": 0,
      "outputs": [
        {
          "output_type": "stream",
          "text": [
            "Help on method_descriptor:\n",
            "\n",
            "get(self, key, default=None, /)\n",
            "    Return the value for key if key is in the dictionary, else default.\n",
            "\n"
          ],
          "name": "stdout"
        }
      ]
    },
    {
      "cell_type": "code",
      "metadata": {
        "id": "YwyN1PDKKT51",
        "colab_type": "code",
        "colab": {},
        "outputId": "0741cc50-ef1f-4161-cad6-60d4800502a9"
      },
      "source": [
        "age = bio_data.get('Age')\n",
        "print(age)"
      ],
      "execution_count": 0,
      "outputs": [
        {
          "output_type": "stream",
          "text": [
            "35\n"
          ],
          "name": "stdout"
        }
      ]
    },
    {
      "cell_type": "code",
      "metadata": {
        "id": "FSiZ-2cnKT6B",
        "colab_type": "code",
        "colab": {},
        "outputId": "61a741ce-2788-4f84-b7e9-d5479be60d34"
      },
      "source": [
        "profession  =  bio_data.get('Profession','NA')\n",
        "print(profession)"
      ],
      "execution_count": 0,
      "outputs": [
        {
          "output_type": "stream",
          "text": [
            "NA\n"
          ],
          "name": "stdout"
        }
      ]
    },
    {
      "cell_type": "code",
      "metadata": {
        "id": "QSKCeOc_KT6X",
        "colab_type": "code",
        "colab": {},
        "outputId": "c75a5d09-72ab-45eb-e421-5bd459ce37ac"
      },
      "source": [
        "bio_data['Age'] = 36\n",
        "print(bio_data)"
      ],
      "execution_count": 0,
      "outputs": [
        {
          "output_type": "stream",
          "text": [
            "{'Name': 'Bob Marley', 'Age': 36, 'Height': '5.6 ft', 'Hobby': 'Music'}\n"
          ],
          "name": "stdout"
        }
      ]
    },
    {
      "cell_type": "code",
      "metadata": {
        "id": "fok_N5yoKT6k",
        "colab_type": "code",
        "colab": {},
        "outputId": "24c70041-9a4a-4328-e3c0-fa4252a39978"
      },
      "source": [
        "#add a key, val\n",
        "bio_data['Profession'] = 'Singer'\n",
        "print(bio_data)"
      ],
      "execution_count": 0,
      "outputs": [
        {
          "output_type": "stream",
          "text": [
            "{'Name': 'Bob Marley', 'Age': 36, 'Height': '5.6 ft', 'Hobby': 'Music', 'Profession': 'Singer'}\n"
          ],
          "name": "stdout"
        }
      ]
    },
    {
      "cell_type": "code",
      "metadata": {
        "id": "tbrC2wTZKT6t",
        "colab_type": "code",
        "colab": {},
        "outputId": "1da88a49-062c-4dc5-f3cd-a78fdc56f8b9"
      },
      "source": [
        "print('Profession' in bio_data)"
      ],
      "execution_count": 0,
      "outputs": [
        {
          "output_type": "stream",
          "text": [
            "True\n"
          ],
          "name": "stdout"
        }
      ]
    },
    {
      "cell_type": "code",
      "metadata": {
        "id": "43pxObRzKT6z",
        "colab_type": "code",
        "colab": {},
        "outputId": "10b5717d-7f69-44b9-cb34-6bf72eeffb03"
      },
      "source": [
        "bio_data.keys()"
      ],
      "execution_count": 0,
      "outputs": [
        {
          "output_type": "execute_result",
          "data": {
            "text/plain": [
              "dict_keys(['Name', 'Age', 'Height', 'Hobby', 'Profession'])"
            ]
          },
          "metadata": {
            "tags": []
          },
          "execution_count": 18
        }
      ]
    },
    {
      "cell_type": "code",
      "metadata": {
        "id": "9FFYf2mJKT64",
        "colab_type": "code",
        "colab": {},
        "outputId": "ce90b049-fb52-4e30-a48b-bbcd903b0d34"
      },
      "source": [
        "#get list of keys\n",
        "print(list(bio_data.keys()))\n",
        "\n",
        "#get list of values\n",
        "print(list(bio_data.values()))"
      ],
      "execution_count": 0,
      "outputs": [
        {
          "output_type": "stream",
          "text": [
            "['Name', 'Age', 'Height', 'Hobby', 'Profession']\n",
            "['Bob Marley', 36, '5.6 ft', 'Music', 'Singer']\n"
          ],
          "name": "stdout"
        }
      ]
    },
    {
      "cell_type": "code",
      "metadata": {
        "id": "tzqUcZylKT6_",
        "colab_type": "code",
        "colab": {}
      },
      "source": [
        "new_dictionary = dict(Country='Jamaica', Songs=['One Love','Misty Morning'])"
      ],
      "execution_count": 0,
      "outputs": []
    },
    {
      "cell_type": "code",
      "metadata": {
        "id": "fIUx_svgKT7E",
        "colab_type": "code",
        "colab": {},
        "outputId": "e01149f8-205b-461d-daf4-fbfabc4407ba"
      },
      "source": [
        "new_dictionary['Songs'][1]"
      ],
      "execution_count": 0,
      "outputs": [
        {
          "output_type": "execute_result",
          "data": {
            "text/plain": [
              "'Misty Morning'"
            ]
          },
          "metadata": {
            "tags": []
          },
          "execution_count": 21
        }
      ]
    },
    {
      "cell_type": "code",
      "metadata": {
        "id": "gGi_Zu9FKT7N",
        "colab_type": "code",
        "colab": {},
        "outputId": "99014e50-e7b3-4b4f-e4da-0be6e374e8bc"
      },
      "source": [
        "bio_data.update(new_dictionary)\n",
        "print(bio_data)"
      ],
      "execution_count": 0,
      "outputs": [
        {
          "output_type": "stream",
          "text": [
            "{'Name': 'Bob Marley', 'Age': 36, 'Height': '5.6 ft', 'Hobby': 'Music', 'Profession': 'Singer', 'Country': 'Jamaica', 'Songs': ['One Love', 'Misty Morning']}\n"
          ],
          "name": "stdout"
        }
      ]
    },
    {
      "cell_type": "code",
      "metadata": {
        "id": "f8YNsHyEKT7S",
        "colab_type": "code",
        "colab": {},
        "outputId": "700a0ab8-f6bf-468a-985d-1967ca353ad4"
      },
      "source": [
        "del bio_data['Songs']\n",
        "print(bio_data)"
      ],
      "execution_count": 0,
      "outputs": [
        {
          "output_type": "stream",
          "text": [
            "{'Name': 'Bob Marley', 'Age': 36, 'Height': '5.6 ft', 'Hobby': 'Music', 'Profession': 'Singer', 'Country': 'Jamaica'}\n"
          ],
          "name": "stdout"
        }
      ]
    },
    {
      "cell_type": "code",
      "metadata": {
        "id": "wdN38IoIKT7a",
        "colab_type": "code",
        "colab": {},
        "outputId": "d3d4c127-1f2f-4c89-ee3d-561b576f88d2"
      },
      "source": [
        "students_data = { 1:['Shivam Bansal', 24] , 2:['Udit Bansal',25], 3:['Sonam Gupta', 26], 4:['Saif Ansari',24], 5:['Huzefa Calcuttawala',27]}\n",
        "\n",
        "print(students_data)\n"
      ],
      "execution_count": 0,
      "outputs": [
        {
          "output_type": "stream",
          "text": [
            "{1: ['Shivam Bansal', 24], 2: ['Udit Bansal', 25], 3: ['Sonam Gupta', 26], 4: ['Saif Ansari', 24], 5: ['Huzefa Calcuttawala', 27]}\n"
          ],
          "name": "stdout"
        }
      ]
    },
    {
      "cell_type": "code",
      "metadata": {
        "id": "IBGAQAdKKT7g",
        "colab_type": "code",
        "colab": {},
        "outputId": "7106f42e-a3a4-4d81-c206-a55aee53ab59"
      },
      "source": [
        "print(len(students_data))\n"
      ],
      "execution_count": 0,
      "outputs": [
        {
          "output_type": "stream",
          "text": [
            "5\n"
          ],
          "name": "stdout"
        }
      ]
    },
    {
      "cell_type": "code",
      "metadata": {
        "id": "6D1fhSRxKT7q",
        "colab_type": "code",
        "colab": {},
        "outputId": "0b834829-c8e8-4778-d0ca-f58279719f5a"
      },
      "source": [
        "#see all the details of students. \n",
        "print(list(students_data.values()))\n"
      ],
      "execution_count": 0,
      "outputs": [
        {
          "output_type": "stream",
          "text": [
            "[['Shivam Bansal', 24], ['Udit Bansal', 25], ['Sonam Gupta', 26], ['Saif Ansari', 24], ['Huzefa Calcuttawala', 27]]\n"
          ],
          "name": "stdout"
        }
      ]
    },
    {
      "cell_type": "code",
      "metadata": {
        "id": "Tt6GAcsVKT7x",
        "colab_type": "code",
        "colab": {},
        "outputId": "10d700e6-e5ad-4a93-aa07-ab247c660f41"
      },
      "source": [
        "students_data[6] = ['Manasi Sharma', 22]\n",
        "print(students_data)\n"
      ],
      "execution_count": 0,
      "outputs": [
        {
          "output_type": "stream",
          "text": [
            "{1: ['Shivam Bansal', 24], 2: ['Udit Bansal', 25], 3: ['Sonam Gupta', 26], 4: ['Saif Ansari', 24], 5: ['Huzefa Calcuttawala', 27], 6: ['Manasi Sharma', 22]}\n"
          ],
          "name": "stdout"
        }
      ]
    },
    {
      "cell_type": "code",
      "metadata": {
        "id": "Uu1o7DqHKT76",
        "colab_type": "code",
        "colab": {},
        "outputId": "e778c2e6-e61b-413f-992a-9d66e86f4145"
      },
      "source": [
        "del students_data[2]\n",
        "print(students_data)"
      ],
      "execution_count": 0,
      "outputs": [
        {
          "output_type": "stream",
          "text": [
            "{1: ['Shivam Bansal', 24], 3: ['Sonam Gupta', 26], 4: ['Saif Ansari', 24], 5: ['Huzefa Calcuttawala', 27], 6: ['Manasi Sharma', 22]}\n"
          ],
          "name": "stdout"
        }
      ]
    },
    {
      "cell_type": "code",
      "metadata": {
        "id": "jUyJSUjCKT8A",
        "colab_type": "code",
        "colab": {},
        "outputId": "addf8180-93ba-4eac-9863-e962737854c4"
      },
      "source": [
        "print(list(students_data.keys()))\n"
      ],
      "execution_count": 0,
      "outputs": [
        {
          "output_type": "stream",
          "text": [
            "[1, 3, 4, 5, 6]\n"
          ],
          "name": "stdout"
        }
      ]
    },
    {
      "cell_type": "code",
      "metadata": {
        "id": "xh80q4f6KT8E",
        "colab_type": "code",
        "colab": {},
        "outputId": "33def1a7-4b60-4ce5-87c2-a449c72f2a3f"
      },
      "source": [
        "list(students_data.items())"
      ],
      "execution_count": 0,
      "outputs": [
        {
          "output_type": "execute_result",
          "data": {
            "text/plain": [
              "[(1, ['Shivam Bansal', 24]),\n",
              " (3, ['Sonam Gupta', 26]),\n",
              " (4, ['Saif Ansari', 24]),\n",
              " (5, ['Huzefa Calcuttawala', 27]),\n",
              " (6, ['Manasi Sharma', 22])]"
            ]
          },
          "metadata": {
            "tags": []
          },
          "execution_count": 32
        }
      ]
    },
    {
      "cell_type": "code",
      "metadata": {
        "id": "V30cS0PJKT8I",
        "colab_type": "code",
        "colab": {}
      },
      "source": [
        ""
      ],
      "execution_count": 0,
      "outputs": []
    }
  ]
}