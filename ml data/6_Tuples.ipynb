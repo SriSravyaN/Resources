{
  "nbformat": 4,
  "nbformat_minor": 0,
  "metadata": {
    "colab": {
      "name": "6.Tuples.ipynb",
      "version": "0.3.2",
      "provenance": []
    },
    "language_info": {
      "codemirror_mode": {
        "name": "ipython",
        "version": 3
      },
      "file_extension": ".py",
      "mimetype": "text/x-python",
      "name": "python",
      "nbconvert_exporter": "python",
      "pygments_lexer": "ipython3",
      "version": "3.7.0"
    },
    "kernelspec": {
      "display_name": "Python 3",
      "language": "python",
      "name": "python3"
    }
  },
  "cells": [
    {
      "cell_type": "code",
      "metadata": {
        "id": "IxMVRQu2KTsu",
        "colab_type": "code",
        "colab": {},
        "outputId": "27e42465-30cd-4484-feb2-959862052226"
      },
      "source": [
        "first_tuple = (\"Monty Python\", 30, \"Baker Street\", 5.8)\n",
        "print(first_tuple[0])\n"
      ],
      "execution_count": 0,
      "outputs": [
        {
          "output_type": "stream",
          "text": [
            "Monty Python\n"
          ],
          "name": "stdout"
        }
      ]
    },
    {
      "cell_type": "code",
      "metadata": {
        "id": "qE7K2in4KTs9",
        "colab_type": "code",
        "colab": {},
        "outputId": "6335ede3-39dc-4f8a-d469-7a0834c58f5f"
      },
      "source": [
        "city_tuple = (\"Mumbai\", 18.9949521, 72.8141853) \n",
        "print(city_tuple)\n"
      ],
      "execution_count": 0,
      "outputs": [
        {
          "output_type": "stream",
          "text": [
            "('Mumbai', 18.9949521, 72.8141853)\n"
          ],
          "name": "stdout"
        }
      ]
    },
    {
      "cell_type": "code",
      "metadata": {
        "id": "Ybm8wcc3KTtM",
        "colab_type": "code",
        "colab": {},
        "outputId": "afd8444e-f694-4ed6-a091-b05c8164105c"
      },
      "source": [
        "new_tuple = city_tuple\n",
        "print(new_tuple)\n"
      ],
      "execution_count": 0,
      "outputs": [
        {
          "output_type": "stream",
          "text": [
            "('Mumbai', 18.9949521, 72.8141853)\n"
          ],
          "name": "stdout"
        }
      ]
    },
    {
      "cell_type": "code",
      "metadata": {
        "id": "NBzp_JMmKTta",
        "colab_type": "code",
        "colab": {},
        "outputId": "55f52bc4-7043-4fb7-9e8d-22ba857ca854"
      },
      "source": [
        "new_tuple[1] = 13.8877"
      ],
      "execution_count": 0,
      "outputs": [
        {
          "output_type": "error",
          "ename": "TypeError",
          "evalue": "'tuple' object does not support item assignment",
          "traceback": [
            "\u001b[1;31m---------------------------------------------------------------------------\u001b[0m",
            "\u001b[1;31mTypeError\u001b[0m                                 Traceback (most recent call last)",
            "\u001b[1;32m<ipython-input-4-44a3e32d1d19>\u001b[0m in \u001b[0;36m<module>\u001b[1;34m()\u001b[0m\n\u001b[1;32m----> 1\u001b[1;33m \u001b[0mnew_tuple\u001b[0m\u001b[1;33m[\u001b[0m\u001b[1;36m1\u001b[0m\u001b[1;33m]\u001b[0m \u001b[1;33m=\u001b[0m \u001b[1;36m13.8877\u001b[0m\u001b[1;33m\u001b[0m\u001b[0m\n\u001b[0m",
            "\u001b[1;31mTypeError\u001b[0m: 'tuple' object does not support item assignment"
          ]
        }
      ]
    },
    {
      "cell_type": "code",
      "metadata": {
        "id": "a4eBy4KdKTtj",
        "colab_type": "code",
        "colab": {},
        "outputId": "798352df-ccfa-490d-b113-d18ff8bad367"
      },
      "source": [
        "b = city_tuple[:-1]\n",
        "print(b)\n",
        "print(len(b))"
      ],
      "execution_count": 0,
      "outputs": [
        {
          "output_type": "stream",
          "text": [
            "('Mumbai', 18.9949521)\n",
            "2\n"
          ],
          "name": "stdout"
        }
      ]
    },
    {
      "cell_type": "code",
      "metadata": {
        "id": "kLIJatVdKTtu",
        "colab_type": "code",
        "colab": {},
        "outputId": "fcd8c2eb-ba50-42d3-9b86-2f8308f75f69"
      },
      "source": [
        "c = list(b)\n",
        "print(\"c is: {0}\".format(c))\n",
        "c= tuple(c)\n",
        "print(\"c is now a tuple: {0}\".format(c))"
      ],
      "execution_count": 0,
      "outputs": [
        {
          "output_type": "stream",
          "text": [
            "c is: ['Mumbai', 18.9949521]\n",
            "c is now a tuple: ('Mumbai', 18.9949521)\n"
          ],
          "name": "stdout"
        }
      ]
    },
    {
      "cell_type": "code",
      "metadata": {
        "id": "JneyJpsjKTuD",
        "colab_type": "code",
        "colab": {}
      },
      "source": [
        ""
      ],
      "execution_count": 0,
      "outputs": []
    }
  ]
}